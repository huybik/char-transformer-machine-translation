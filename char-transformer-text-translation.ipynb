{
 "cells": [
  {
   "cell_type": "markdown",
   "metadata": {},
   "source": [
    "# Char level transformer for Machine translation\n",
    "To do translation, we'll use sequence-to-sequence model: an encoder encode the input and decoder using both the encode and raw output to predict. \n",
    "\n",
    "This is similar to char-transformer for language modeling, but we will add an encoder, and in place of top-k output when we generate text we'll use top-1 beam search output.\n",
    "\n",
    "<img src='images/transformer.png' width=400>\n",
    "<a href=\"https://www.kaggle.com/hungnm/englishvietnamese-translation\">English-Vietnamese dataset</a>"
   ]
  },
  {
   "cell_type": "code",
   "execution_count": 5,
   "metadata": {},
   "outputs": [
    {
     "name": "stdout",
     "output_type": "stream",
     "text": [
      "The autoreload extension is already loaded. To reload it, use:\n",
      "  %reload_ext autoreload\n"
     ]
    }
   ],
   "source": [
    "import numpy as np\n",
    "import torch\n",
    "from torch.utils.data import Dataset, DataLoader\n",
    "\n",
    "import logging\n",
    "logging.basicConfig(\n",
    "        format=\"%(asctime)s - %(levelname)s - %(name)s -   %(message)s\",\n",
    "        datefmt=\"%m/%d/%Y %H:%M:%S\",\n",
    "        level=logging.INFO,\n",
    ")\n",
    "\n",
    "%load_ext autoreload\n",
    "%autoreload 2\n",
    "%matplotlib inline"
   ]
  },
  {
   "cell_type": "code",
   "execution_count": 6,
   "metadata": {},
   "outputs": [],
   "source": [
    "class CharDataset(Dataset):\n",
    "    '''\n",
    "    Dataset is a iterable that returns input and target sentence. It adds <sos> at the begining, and <eos> at the end, \n",
    "    and filling in <pad> if sentence length is less than pre-defined value.\n",
    "    '''\n",
    "    def __init__(self, x, y, sequence_len):\n",
    "        # data in the type of pairs of sentence\n",
    "\n",
    "        data = ''.join(x+y)\n",
    "        chars = ['<pad>'] +['<sos>'] + ['<eos>'] + sorted(list(set(data)))\n",
    "        data_size, vocab_size = len(data), len(chars)\n",
    "\n",
    "        print('data has %d characters, %d unique chars, %d sentences.' % (data_size, len(chars), len(x)))\n",
    "        print('%d sentence length' % (sequence_len))\n",
    "        \n",
    "        self.x, self.y = x, y\n",
    "        self.ch2i = {ch:i for i,ch in enumerate(chars)}\n",
    "        self.i2ch = {i:ch for i,ch in enumerate(chars)}\n",
    "        self.vocab_size = vocab_size\n",
    "        self.sequence_len = sequence_len\n",
    "    \n",
    "    def __len__(self):\n",
    "        return len(self.x) # len x = y\n",
    "    \n",
    "    def __getitem__(self, idx):\n",
    "        indx = self.padding([self.ch2i[ch] for ch in self.x[idx]] + [self.ch2i['<eos>']])\n",
    "        indy = [self.ch2i['<sos>']] + self.padding([self.ch2i[ch] for ch in self.y[idx]] + [self.ch2i['<eos>']])\n",
    "\n",
    "        x = torch.tensor(indx, dtype=torch.long)\n",
    "        y = torch.tensor(indy, dtype=torch.long)\n",
    "                                                                                                                               \n",
    "        return x,y\n",
    "                                                                                                                               \n",
    "    def padding(self, string):\n",
    "        if len(string)<self.sequence_len:\n",
    "            string =  string + [0]*(self.sequence_len - len(string))\n",
    "        else:\n",
    "            string = string[:self.sequence_len -1] + [self.ch2i['<eos>']]\n",
    "                   \n",
    "        return string\n",
    "                                                                                                                               \n"
   ]
  },
  {
   "cell_type": "code",
   "execution_count": 18,
   "metadata": {},
   "outputs": [
    {
     "name": "stdout",
     "output_type": "stream",
     "text": [
      "bạn đã ở đám cưới của tôi | you were at my wedding\n",
      "tại sao bạn không quan tâm? | why aren't you interested?\n"
     ]
    }
   ],
   "source": [
    "# walk through data folder\n",
    "import os\n",
    "text = {}\n",
    "for (dirpath, dirnames, filenames) in os.walk(\"data\"):\n",
    "    for name in filenames:\n",
    "        path = os.path.join(dirpath, name)\n",
    "        with open(path, encoding='utf-8') as f:\n",
    "            text[name] = f.read().lower().split('\\n')\n",
    "\n",
    "x,y = text['vi_sents'], text['en_sents']\n",
    "\n",
    "# print some samples\n",
    "for i in range(-1,-3,-1):\n",
    "    print(x[i],'|',y[i])"
   ]
  },
  {
   "cell_type": "code",
   "execution_count": 22,
   "metadata": {},
   "outputs": [
    {
     "name": "stdout",
     "output_type": "stream",
     "text": [
      "data has 17367685 characters, 151 unique chars, 254090 sentences.\n",
      "81 sentence length\n",
      "sample tensors  (tensor([ 51,  36,  41,   3,  49,  48,  36,   3,  39,  71,  41,  34,   3,  82,\n",
      "        103,  47,   3,  41,  34,  86, 122,  36,   3,  44,  48,  65,  47,   3,\n",
      "         45,  60,  30,   3,  47,  45,  42,  41,  34,   3,  47, 127,   3,  30,\n",
      "         35, 118,  36,   2,   0,   0,   0,   0,   0,   0,   0,   0,   0,   0,\n",
      "          0,   0,   0,   0,   0,   0,   0,   0,   0,   0,   0,   0,   0,   0,\n",
      "          0,   0,   0,   0,   0,   0,   0,   0,   0,   0,   0]), tensor([ 1, 43, 39, 32, 28, 46, 32,  3, 43, 48, 47,  3, 47, 35, 32,  3, 31, 48,\n",
      "        46, 47, 43, 28, 41,  3, 36, 41,  3, 47, 35, 32,  3, 29, 45, 42, 42, 40,\n",
      "         3, 30, 39, 42, 46, 32, 47,  2,  0,  0,  0,  0,  0,  0,  0,  0,  0,  0,\n",
      "         0,  0,  0,  0,  0,  0,  0,  0,  0,  0,  0,  0,  0,  0,  0,  0,  0,  0,\n",
      "         0,  0,  0,  0,  0,  0,  0,  0,  0,  0]))\n",
      "vocab:  {'<pad>': 0, '<sos>': 1, '<eos>': 2, ' ': 3, '!': 4, '\"': 5, '$': 6, '%': 7, '&': 8, \"'\": 9, '+': 10, ',': 11, '-': 12, '.': 13, '/': 14, '0': 15, '1': 16, '2': 17, '3': 18, '4': 19, '5': 20, '6': 21, '7': 22, '8': 23, '9': 24, ':': 25, ';': 26, '?': 27, 'a': 28, 'b': 29, 'c': 30, 'd': 31, 'e': 32, 'f': 33, 'g': 34, 'h': 35, 'i': 36, 'j': 37, 'k': 38, 'l': 39, 'm': 40, 'n': 41, 'o': 42, 'p': 43, 'q': 44, 'r': 45, 's': 46, 't': 47, 'u': 48, 'v': 49, 'w': 50, 'x': 51, 'y': 52, 'z': 53, '\\xa0': 54, '¥': 55, '°': 56, '´': 57, 'º': 58, 'à': 59, 'á': 60, 'â': 61, 'ã': 62, 'ç': 63, 'è': 64, 'é': 65, 'ê': 66, 'ì': 67, 'í': 68, 'î': 69, 'ï': 70, 'ò': 71, 'ó': 72, 'ô': 73, 'õ': 74, 'ö': 75, 'ù': 76, 'ú': 77, 'ü': 78, 'ý': 79, 'ă': 80, 'č': 81, 'đ': 82, 'ĩ': 83, 'ũ': 84, 'ơ': 85, 'ư': 86, '̉': 87, '̣': 88, '̀': 89, 'а': 90, 'о': 91, 'ạ': 92, 'ả': 93, 'ấ': 94, 'ầ': 95, 'ẩ': 96, 'ẫ': 97, 'ậ': 98, 'ắ': 99, 'ằ': 100, 'ẳ': 101, 'ẵ': 102, 'ặ': 103, 'ẹ': 104, 'ẻ': 105, 'ẽ': 106, 'ế': 107, 'ề': 108, 'ể': 109, 'ễ': 110, 'ệ': 111, 'ỉ': 112, 'ị': 113, 'ọ': 114, 'ỏ': 115, 'ố': 116, 'ồ': 117, 'ổ': 118, 'ỗ': 119, 'ộ': 120, 'ớ': 121, 'ờ': 122, 'ở': 123, 'ỡ': 124, 'ợ': 125, 'ụ': 126, 'ủ': 127, 'ứ': 128, 'ừ': 129, 'ử': 130, 'ữ': 131, 'ự': 132, 'ỳ': 133, 'ỵ': 134, 'ỷ': 135, 'ỹ': 136, '\\u200b': 137, '\\u200e': 138, '–': 139, '’': 140, '\\u202f': 141, '₂': 142, '€': 143, '❤': 144, 'ﬁ': 145, 'ﬂ': 146, '️': 147, '\\ufeff': 148, '🌷': 149, '🌹': 150}\n"
     ]
    }
   ],
   "source": [
    "nine_nine_percentile = int(np.percentile([len(sen) for sen in x],99))\n",
    "dataset = CharDataset(x, y, sequence_len=nine_nine_percentile)\n",
    "\n",
    "print('sample tensors ', next(iter(dataset)))\n",
    "print(\"vocab: \", dataset.ch2i)"
   ]
  },
  {
   "cell_type": "markdown",
   "metadata": {},
   "source": [
    "# Building model"
   ]
  },
  {
   "cell_type": "code",
   "execution_count": 9,
   "metadata": {},
   "outputs": [],
   "source": [
    "from model.encode_decode_transformer import Transformer, TransformerConfig\n",
    "from utils.trainer import Trainer, TrainerConfig\n",
    "tconfig = TrainerConfig(max_epochs=2, batch_size=16, learning_rate=6e-4, grad_norm_clip=1.0, device='cuda',\n",
    "                       lr_decay=True, warmup_tokens=5000, ckpt_n_print_iter=500, ckpt_path='checkpoint/transformer_vn_en')\n",
    "\n",
    "mconfig = TransformerConfig(vocab_size=dataset.vocab_size, sequence_len=dataset.sequence_len, embed_dim=256,\n",
    "                           n_block=8, n_head=8, causal=None, device=tconfig.device)"
   ]
  },
  {
   "cell_type": "code",
   "execution_count": 12,
   "metadata": {
    "scrolled": false
   },
   "outputs": [
    {
     "name": "stderr",
     "output_type": "stream",
     "text": [
      "09/27/2021 20:00:08 - INFO - model.encode_decode_transformer -   number of parameters: 1.482982e+07\n"
     ]
    }
   ],
   "source": [
    "model = Transformer(mconfig)\n",
    "trainer = Trainer(model, dataset, tconfig, test_dataset=None, collate=None)"
   ]
  },
  {
   "cell_type": "code",
   "execution_count": null,
   "metadata": {},
   "outputs": [],
   "source": [
    "# load pre-trained weights\n",
    "from utils.utils import pickle\n",
    "model.load_state_dict(pickle(tconfig.ckpt_path)) # load"
   ]
  },
  {
   "cell_type": "code",
   "execution_count": 23,
   "metadata": {
    "scrolled": true
   },
   "outputs": [
    {
     "name": "stderr",
     "output_type": "stream",
     "text": [
      "epoch: 1 | train loss: 0.32667  | lr: 1.920000e-06:   0%|                                    | 0/15880 [00:00<?, ?it/s]"
     ]
    },
    {
     "name": "stdout",
     "output_type": "stream",
     "text": [
      "[]\n"
     ]
    },
    {
     "name": "stderr",
     "output_type": "stream",
     "text": [
      "epoch: 1 | train loss: 0.94756  | lr: 5.997830e-04:   3%|▊                         | 500/15880 [01:23<38:22,  6.68it/s]"
     ]
    },
    {
     "name": "stdout",
     "output_type": "stream",
     "text": [
      "[\"mất bao lâu để bay từ tokyo đến los angeles?   <sos>you don't you you you you you you?<eos>\", 'đó là một cái túi mà tôi bị mất trong phòng ngày hôm qua.   <sos>tom and to to to the the the the the the the the the the the t the the the <eos>', 'mary đang mặc một chiếc cà vạt   <sos>tom want to to to to the the the the the the ther<eos>', 'tôi muốn một cuốn sách   <sos>tom want to to the to the the this<eos>']\n"
     ]
    },
    {
     "name": "stderr",
     "output_type": "stream",
     "text": [
      "epoch: 1 | train loss: 0.86248  | lr: 5.971089e-04:   6%|█▌                       | 1000/15880 [02:47<37:53,  6.55it/s]"
     ]
    },
    {
     "name": "stdout",
     "output_type": "stream",
     "text": [
      "['mất bao lâu để bay từ tokyo đến los angeles?   <sos>do you have have tom tom tom tom?<eos>', \"đó là một cái túi mà tôi bị mất trong phòng ngày hôm qua.   <sos>tom don't have tom tom to the wat tom to the.<eos>\", 'mary đang mặc một chiếc cà vạt   <sos>tom doed tom the was to the wat to the<eos>', \"tôi muốn một cuốn sách   <sos>i don't have told to the wat tom<eos>\"]\n"
     ]
    },
    {
     "name": "stderr",
     "output_type": "stream",
     "text": [
      "epoch: 1 | train loss: 0.77453  | lr: 5.914125e-04:   9%|██▎                      | 1500/15880 [04:12<36:55,  6.49it/s]"
     ]
    },
    {
     "name": "stdout",
     "output_type": "stream",
     "text": [
      "['mất bao lâu để bay từ tokyo đến los angeles?   <sos>what is that was the doing?<eos>', 'đó là một cái túi mà tôi bị mất trong phòng ngày hôm qua.   <sos>that was the call that the do that that the deay.<eos>', 'mary đang mặc một chiếc cà vạt   <sos>there was the call that the plears<eos>', \"tôi muốn một cuốn sách   <sos>i don't want that the pleas<eos>\"]\n"
     ]
    },
    {
     "name": "stderr",
     "output_type": "stream",
     "text": [
      "epoch: 1 | train loss: 0.69950  | lr: 5.827516e-04:  13%|███▏                     | 2000/15880 [05:38<36:00,  6.43it/s]"
     ]
    },
    {
     "name": "stdout",
     "output_type": "stream",
     "text": [
      "[\"mất bao lâu để bay từ tokyo đến los angeles?   <sos>what's tom and that the home?<eos>\", 'đó là một cái túi mà tôi bị mất trong phòng ngày hôm qua.   <sos>that is is the student to the sture to the story and the the dour.<eos>', 'mary đang mặc một chiếc cà vạt   <sos>the students the boston of this the boston<eos>', \"tôi muốn một cuốn sách   <sos>i'm not a looking.<eos>\"]\n"
     ]
    },
    {
     "name": "stderr",
     "output_type": "stream",
     "text": [
      "epoch: 1 | train loss: 0.66173  | lr: 5.711885e-04:  16%|███▌                   | 2502/15880 [07:07<2:54:03,  1.28it/s]"
     ]
    },
    {
     "name": "stdout",
     "output_type": "stream",
     "text": [
      "[\"mất bao lâu để bay từ tokyo đến los angeles?   <sos>what doesn't want to this with tom?<eos>\", \"đó là một cái túi mà tôi bị mất trong phòng ngày hôm qua.   <sos>this is there was the wanted to that the couldn't.<eos>\", 'mary đang mặc một chiếc cà vạt   <sos>this is the coming of the the students<eos>', 'tôi muốn một cuốn sách   <sos>i want to the ways.<eos>']\n"
     ]
    },
    {
     "name": "stderr",
     "output_type": "stream",
     "text": [
      "epoch: 1 | train loss: 0.62151  | lr: 5.568869e-04:  19%|████▎                  | 3002/15880 [08:28<2:47:46,  1.28it/s]"
     ]
    },
    {
     "name": "stdout",
     "output_type": "stream",
     "text": [
      "['mất bao lâu để bay từ tokyo đến los angeles?   <sos>how was the book of this the books before the was the can?<eos>', \"đó là một cái túi mà tôi bị mất trong phòng ngày hôm qua.   <sos>that's been in this the way to the way before.<eos>\", 'mary đang mặc một chiếc cà vạt   <sos>this is the book of the book<eos>', \"tôi muốn một cuốn sách   <sos>i haven't been<eos>\"]\n"
     ]
    },
    {
     "name": "stderr",
     "output_type": "stream",
     "text": [
      "epoch: 1 | train loss: 0.58229  | lr: 5.400085e-04:  22%|█████▌                   | 3500/15880 [09:46<32:15,  6.40it/s]"
     ]
    },
    {
     "name": "stdout",
     "output_type": "stream",
     "text": [
      "['mất bao lâu để bay từ tokyo đến los angeles?   <sos>what was there in there the work?<eos>', \"đó là một cái túi mà tôi bị mất trong phòng ngày hôm qua.   <sos>that's a booking of there in there of there.<eos>\", 'mary đang mặc một chiếc cà vạt   <sos>this is the booking of the party<eos>', 'tôi muốn một cuốn sách   <sos>i was a good of the book.<eos>']\n"
     ]
    },
    {
     "name": "stderr",
     "output_type": "stream",
     "text": [
      "epoch: 1 | train loss: 0.59238  | lr: 5.206163e-04:  25%|█████▊                 | 4002/15880 [11:16<2:38:10,  1.25it/s]"
     ]
    },
    {
     "name": "stdout",
     "output_type": "stream",
     "text": [
      "['mất bao lâu để bay từ tokyo đến los angeles?   <sos>is there there interesting the problem?<eos>', \"đó là một cái túi mà tôi bị mất trong phòng ngày hôm qua.   <sos>don't have a little on the problem of the problem.<eos>\", 'mary đang mặc một chiếc cà vạt   <sos>the book is the problem in the problem<eos>', 'tôi muốn một cuốn sách   <sos>i want to get the book<eos>']\n"
     ]
    },
    {
     "name": "stderr",
     "output_type": "stream",
     "text": [
      "epoch: 1 | train loss: 0.59026  | lr: 4.990161e-04:  28%|██████▌                | 4502/15880 [12:35<2:28:54,  1.27it/s]"
     ]
    },
    {
     "name": "stdout",
     "output_type": "stream",
     "text": [
      "['mất bao lâu để bay từ tokyo đến los angeles?   <sos>what is that the problem in the station?<eos>', 'đó là một cái túi mà tôi bị mất trong phòng ngày hôm qua.   <sos>it was a problem and and and and the party.<eos>', 'mary đang mặc một chiếc cà vạt   <sos>this is the books and the problem<eos>', 'tôi muốn một cuốn sách   <sos>i know a good in the party.<eos>']\n"
     ]
    },
    {
     "name": "stderr",
     "output_type": "stream",
     "text": [
      "epoch: 1 | train loss: 0.53633  | lr: 4.753914e-04:  31%|███████▏               | 5002/15880 [13:55<2:18:26,  1.31it/s]"
     ]
    },
    {
     "name": "stdout",
     "output_type": "stream",
     "text": [
      "['mất bao lâu để bay từ tokyo đến los angeles?   <sos>what is the problem, is the car?<eos>', 'đó là một cái túi mà tôi bị mất trong phòng ngày hôm qua.   <sos>there is a complany in the car of the door.<eos>', 'mary đang mặc một chiếc cà vạt   <sos>the mother is a complain of the mother<eos>', 'tôi muốn một cuốn sách   <sos>i want to go a complain<eos>']\n"
     ]
    },
    {
     "name": "stderr",
     "output_type": "stream",
     "text": [
      "epoch: 1 | train loss: 0.53151  | lr: 4.499825e-04:  35%|███████▉               | 5502/15880 [15:14<2:12:29,  1.31it/s]"
     ]
    },
    {
     "name": "stdout",
     "output_type": "stream",
     "text": [
      "['mất bao lâu để bay từ tokyo đến los angeles?   <sos>how many wanted to the train the party?<eos>', \"đó là một cái túi mà tôi bị mất trong phòng ngày hôm qua.   <sos>that's a little of the problem without the problem.<eos>\", 'mary đang mặc một chiếc cà vạt   <sos>this is one of the books of the party<eos>', \"tôi muốn một cuốn sách   <sos>i'd like a little<eos>\"]\n"
     ]
    },
    {
     "name": "stderr",
     "output_type": "stream",
     "text": [
      "epoch: 1 | train loss: 0.50590  | lr: 4.230479e-04:  38%|████████▋              | 6002/15880 [16:32<2:08:11,  1.28it/s]"
     ]
    },
    {
     "name": "stdout",
     "output_type": "stream",
     "text": [
      "['mất bao lâu để bay từ tokyo đến los angeles?   <sos>what did you want to go to this parents?<eos>', \"đó là một cái túi mà tôi bị mất trong phòng ngày hôm qua.   <sos>that's a problem without tom doesn't want to go to.<eos>\", 'mary đang mặc một chiếc cà vạt   <sos>there is a beautiful of the car<eos>', \"tôi muốn một cuốn sách   <sos>i'd like a good<eos>\"]\n"
     ]
    },
    {
     "name": "stderr",
     "output_type": "stream",
     "text": [
      "epoch: 1 | train loss: 0.49127  | lr: 3.949190e-04:  41%|██████████▏              | 6500/15880 [17:48<24:40,  6.34it/s]"
     ]
    },
    {
     "name": "stdout",
     "output_type": "stream",
     "text": [
      "['mất bao lâu để bay từ tokyo đến los angeles?   <sos>how did we have to take in the work?<eos>', 'đó là một cái túi mà tôi bị mất trong phòng ngày hôm qua.   <sos>that is a problem without that he was the country.<eos>', 'mary đang mặc một chiếc cà vạt   <sos>mary is the problem<eos>', 'tôi muốn một cuốn sách   <sos>i wanted to be in the partment.<eos>']\n"
     ]
    },
    {
     "name": "stderr",
     "output_type": "stream",
     "text": [
      "epoch: 1 | train loss: 0.51212  | lr: 3.657103e-04:  44%|██████████▏            | 7002/15880 [19:16<1:50:57,  1.33it/s]"
     ]
    },
    {
     "name": "stdout",
     "output_type": "stream",
     "text": [
      "['mất bao lâu để bay từ tokyo đến los angeles?   <sos>how many does in the parents in the country?<eos>', \"đó là một cái túi mà tôi bị mất trong phòng ngày hôm qua.   <sos>that's a motter of the police in the month.<eos>\", 'mary đang mặc một chiếc cà vạt   <sos>mary is the beautiful<eos>', 'tôi muốn một cuốn sách   <sos>i wanted to be a long time<eos>']\n"
     ]
    },
    {
     "name": "stderr",
     "output_type": "stream",
     "text": [
      "epoch: 1 | train loss: 0.47202  | lr: 3.358905e-04:  47%|██████████▊            | 7502/15880 [20:35<1:46:38,  1.31it/s]"
     ]
    },
    {
     "name": "stdout",
     "output_type": "stream",
     "text": [
      "[\"mất bao lâu để bay từ tokyo đến los angeles?   <sos>how many doesn't take him to the party?<eos>\", 'đó là một cái túi mà tôi bị mất trong phòng ngày hôm qua.   <sos>that was a teacher of the money with the party.<eos>', 'mary đang mặc một chiếc cà vạt   <sos>mary was a beautiful<eos>', 'tôi muốn một cuốn sách   <sos>i want to see a little.<eos>']\n"
     ]
    },
    {
     "name": "stderr",
     "output_type": "stream",
     "text": [
      "epoch: 1 | train loss: 0.46461  | lr: 3.057057e-04:  50%|███████████▌           | 8002/15880 [21:54<1:40:26,  1.31it/s]"
     ]
    },
    {
     "name": "stdout",
     "output_type": "stream",
     "text": [
      "['mất bao lâu để bay từ tokyo đến los angeles?   <sos>how many does that he was going to the station?<eos>', \"đó là một cái túi mà tôi bị mất trong phòng ngày hôm qua.   <sos>it was a man if tom doesn't want tom to get married.<eos>\", 'mary đang mặc một chiếc cà vạt   <sos>mary was a big one of the station<eos>', 'tôi muốn một cuốn sách   <sos>i wanted to buy a problem<eos>']\n"
     ]
    },
    {
     "name": "stderr",
     "output_type": "stream",
     "text": [
      "epoch: 1 | train loss: 0.47573  | lr: 2.754628e-04:  54%|████████████▎          | 8502/15880 [23:13<1:34:12,  1.31it/s]"
     ]
    },
    {
     "name": "stdout",
     "output_type": "stream",
     "text": [
      "['mất bao lâu để bay từ tokyo đến los angeles?   <sos>how did you go to go to the way?<eos>', 'đó là một cái túi mà tôi bị mất trong phòng ngày hôm qua.   <sos>it was a problem with me the way in the way.<eos>', 'mary đang mặc một chiếc cà vạt   <sos>mary is a good of the children<eos>', 'tôi muốn một cuốn sách   <sos>i wanted to be a chance.<eos>']\n"
     ]
    },
    {
     "name": "stderr",
     "output_type": "stream",
     "text": [
      "epoch: 1 | train loss: 0.47362  | lr: 2.454695e-04:  57%|█████████████          | 9002/15880 [24:31<1:27:50,  1.30it/s]"
     ]
    },
    {
     "name": "stdout",
     "output_type": "stream",
     "text": [
      "['mất bao lâu để bay từ tokyo đến los angeles?   <sos>how did you get the station of the station?<eos>', \"đó là một cái túi mà tôi bị mất trong phòng ngày hôm qua.   <sos>that's something of the country of the country of the party.<eos>\", 'mary đang mặc một chiếc cà vạt   <sos>mary was a couple of the station<eos>', 'tôi muốn một cuốn sách   <sos>i want to be a problem<eos>']\n"
     ]
    },
    {
     "name": "stderr",
     "output_type": "stream",
     "text": [
      "epoch: 1 | train loss: 0.42905  | lr: 2.160309e-04:  60%|█████████████▊         | 9502/15880 [25:50<1:21:10,  1.31it/s]"
     ]
    },
    {
     "name": "stdout",
     "output_type": "stream",
     "text": [
      "['mất bao lâu để bay từ tokyo đến los angeles?   <sos>how much does the book is the station?<eos>', 'đó là một cái túi mà tôi bị mất trong phòng ngày hôm qua.   <sos>that was a little time with my house.<eos>', 'mary đang mặc một chiếc cà vạt   <sos>mary is a big business<eos>', \"tôi muốn một cuốn sách   <sos>i'd like a chance.<eos>\"]\n"
     ]
    },
    {
     "name": "stderr",
     "output_type": "stream",
     "text": [
      "epoch: 1 | train loss: 0.44964  | lr: 1.875026e-04:  63%|███████████████         | 10000/15880 [27:05<14:50,  6.60it/s]"
     ]
    },
    {
     "name": "stdout",
     "output_type": "stream",
     "text": [
      "['mất bao lâu để bay từ tokyo đến los angeles?   <sos>how long does it was the book?<eos>', 'đó là một cái túi mà tôi bị mất trong phòng ngày hôm qua.   <sos>it was a little time with him the party in the station.<eos>', 'mary đang mặc một chiếc cà vạt   <sos>mary was a little time on the morning<eos>', \"tôi muốn một cuốn sách   <sos>i'd like something.<eos>\"]\n"
     ]
    },
    {
     "name": "stderr",
     "output_type": "stream",
     "text": [
      "epoch: 1 | train loss: 0.41865  | lr: 1.600071e-04:  66%|██████████████▌       | 10502/15880 [28:32<1:08:08,  1.32it/s]"
     ]
    },
    {
     "name": "stdout",
     "output_type": "stream",
     "text": [
      "['mất bao lâu để bay từ tokyo đến los angeles?   <sos>how did you come to the station in boston?<eos>', 'đó là một cái túi mà tôi bị mất trong phòng ngày hôm qua.   <sos>it was an english tom was too married for the problem.<eos>', 'mary đang mặc một chiếc cà vạt   <sos>mary was a good beautiful.<eos>', \"tôi muốn một cuốn sách   <sos>i'd like something.<eos>\"]\n"
     ]
    },
    {
     "name": "stderr",
     "output_type": "stream",
     "text": [
      "epoch: 1 | train loss: 0.43827  | lr: 1.339918e-04:  69%|███████████████▏      | 11002/15880 [29:51<1:02:12,  1.31it/s]"
     ]
    },
    {
     "name": "stdout",
     "output_type": "stream",
     "text": [
      "['mất bao lâu để bay từ tokyo đến los angeles?   <sos>how long does it was in the station?<eos>', 'đó là một cái túi mà tôi bị mất trong phòng ngày hôm qua.   <sos>it was a good friend to me this time tomorrow.<eos>', 'mary đang mặc một chiếc cà vạt   <sos>mary is very beautiful<eos>', \"tôi muốn một cuốn sách   <sos>i'd like something.<eos>\"]\n"
     ]
    },
    {
     "name": "stderr",
     "output_type": "stream",
     "text": [
      "epoch: 1 | train loss: 0.42819  | lr: 1.097120e-04:  72%|█████████████████▍      | 11500/15880 [31:06<11:03,  6.61it/s]"
     ]
    },
    {
     "name": "stdout",
     "output_type": "stream",
     "text": [
      "['mất bao lâu để bay từ tokyo đến los angeles?   <sos>how long does this time in the room?<eos>', 'đó là một cái túi mà tôi bị mất trong phòng ngày hôm qua.   <sos>it was a good time for me to get married at this time.<eos>', 'mary đang mặc một chiếc cà vạt   <sos>mary was a good attention than the station<eos>', \"tôi muốn một cuốn sách   <sos>i'd like something<eos>\"]\n"
     ]
    },
    {
     "name": "stderr",
     "output_type": "stream",
     "text": [
      "epoch: 1 | train loss: 0.39471  | lr: 8.727482e-05:  76%|██████████████████▏     | 12002/15880 [32:33<49:17,  1.31it/s]"
     ]
    },
    {
     "name": "stdout",
     "output_type": "stream",
     "text": [
      "['mất bao lâu để bay từ tokyo đến los angeles?   <sos>how long does the station in the station?<eos>', \"đó là một cái túi mà tôi bị mất trong phòng ngày hôm qua.   <sos>it was a big time tomorrow to mary and mary's house.<eos>\", 'mary đang mặc một chiếc cà vạt   <sos>mary was a good beautiful because of the station<eos>', \"tôi muốn một cuốn sách   <sos>i'd like something<eos>\"]\n"
     ]
    },
    {
     "name": "stderr",
     "output_type": "stream",
     "text": [
      "epoch: 1 | train loss: 0.39384  | lr: 6.704842e-05:  79%|██████████████████▉     | 12502/15880 [33:51<38:05,  1.48it/s]"
     ]
    },
    {
     "name": "stdout",
     "output_type": "stream",
     "text": [
      "['mất bao lâu để bay từ tokyo đến los angeles?   <sos>how long does it was in the computer in boston?<eos>', 'đó là một cái túi mà tôi bị mất trong phòng ngày hôm qua.   <sos>it was a little time for me to get married.<eos>', 'mary đang mặc một chiếc cà vạt   <sos>mary was a little time.<eos>', \"tôi muốn một cuốn sách   <sos>i'd like something.<eos>\"]\n"
     ]
    },
    {
     "name": "stderr",
     "output_type": "stream",
     "text": [
      "epoch: 1 | train loss: 0.39274  | lr: 6.000000e-05:  82%|███████████████████▋    | 13002/15880 [35:10<36:35,  1.31it/s]"
     ]
    },
    {
     "name": "stdout",
     "output_type": "stream",
     "text": [
      "['mất bao lâu để bay từ tokyo đến los angeles?   <sos>how long does when the book is the station?<eos>', 'đó là một cái túi mà tôi bị mất trong phòng ngày hôm qua.   <sos>it was a few minutes in this book in boston.<eos>', 'mary đang mặc một chiếc cà vạt   <sos>mary was very good idea<eos>', \"tôi muốn một cuốn sách   <sos>i'd like something.<eos>\"]\n"
     ]
    },
    {
     "name": "stderr",
     "output_type": "stream",
     "text": [
      "epoch: 1 | train loss: 0.36880  | lr: 6.000000e-05:  85%|████████████████████▍   | 13502/15880 [36:28<30:12,  1.31it/s]"
     ]
    },
    {
     "name": "stdout",
     "output_type": "stream",
     "text": [
      "['mất bao lâu để bay từ tokyo đến los angeles?   <sos>how long does it was in the station in boston?<eos>', 'đó là một cái túi mà tôi bị mất trong phòng ngày hôm qua.   <sos>it was a few times to meet her from this morning.<eos>', 'mary đang mặc một chiếc cà vạt   <sos>mary was a little time.<eos>', \"tôi muốn một cuốn sách   <sos>i'd like some morning<eos>\"]\n"
     ]
    },
    {
     "name": "stderr",
     "output_type": "stream",
     "text": [
      "epoch: 1 | train loss: 0.39660  | lr: 6.000000e-05:  88%|█████████████████████▏  | 14000/15880 [37:43<04:36,  6.79it/s]"
     ]
    },
    {
     "name": "stdout",
     "output_type": "stream",
     "text": [
      "['mất bao lâu để bay từ tokyo đến los angeles?   <sos>how long does it was in the station in boston?<eos>', 'đó là một cái túi mà tôi bị mất trong phòng ngày hôm qua.   <sos>it was a good ticket me in this morning.<eos>', 'mary đang mặc một chiếc cà vạt   <sos>mary is a good beautiful<eos>', \"tôi muốn một cuốn sách   <sos>i'd like some morning<eos>\"]\n"
     ]
    },
    {
     "name": "stderr",
     "output_type": "stream",
     "text": [
      "epoch: 1 | train loss: 0.39628  | lr: 6.000000e-05:  91%|█████████████████████▉  | 14502/15880 [39:08<15:56,  1.44it/s]"
     ]
    },
    {
     "name": "stdout",
     "output_type": "stream",
     "text": [
      "['mất bao lâu để bay từ tokyo đến los angeles?   <sos>how long does it was the station in boston?<eos>', 'đó là một cái túi mà tôi bị mất trong phòng ngày hôm qua.   <sos>it was one of the time i have been in the day.<eos>', 'mary đang mặc một chiếc cà vạt   <sos>mary was a good beautiful.<eos>', \"tôi muốn một cuốn sách   <sos>i'd like some money.<eos>\"]\n"
     ]
    },
    {
     "name": "stderr",
     "output_type": "stream",
     "text": [
      "epoch: 1 | train loss: 0.37917  | lr: 6.000000e-05:  94%|██████████████████████▋ | 15002/15880 [40:24<10:55,  1.34it/s]"
     ]
    },
    {
     "name": "stdout",
     "output_type": "stream",
     "text": [
      "['mất bao lâu để bay từ tokyo đến los angeles?   <sos>how many times does the station in the room?<eos>', \"đó là một cái túi mà tôi bị mất trong phòng ngày hôm qua.   <sos>that's one of my favorite in this morning.<eos>\", 'mary đang mặc một chiếc cà vạt   <sos>mary was a little<eos>', \"tôi muốn một cuốn sách   <sos>i'd like some money.<eos>\"]\n"
     ]
    },
    {
     "name": "stderr",
     "output_type": "stream",
     "text": [
      "epoch: 1 | train loss: 0.41440  | lr: 6.000000e-05:  98%|███████████████████████▍| 15502/15880 [41:41<04:42,  1.34it/s]"
     ]
    },
    {
     "name": "stdout",
     "output_type": "stream",
     "text": [
      "['mất bao lâu để bay từ tokyo đến los angeles?   <sos>how long does it was in the station in boston?<eos>', 'đó là một cái túi mà tôi bị mất trong phòng ngày hôm qua.   <sos>it was a little time for me in the morning.<eos>', 'mary đang mặc một chiếc cà vạt   <sos>mary was brought a little day<eos>', \"tôi muốn một cuốn sách   <sos>i'd like something.<eos>\"]\n"
     ]
    },
    {
     "name": "stderr",
     "output_type": "stream",
     "text": [
      "epoch: 1 | train loss: 0.37097  | lr: 6.000000e-05: 100%|████████████████████████| 15880/15880 [42:37<00:00,  6.21it/s]\n",
      "epoch: 2 | train loss: 0.06166  | lr: 6.000000e-05:   0%|                          | 2/15880 [00:03<5:52:15,  1.33s/it]"
     ]
    },
    {
     "name": "stdout",
     "output_type": "stream",
     "text": [
      "['mất bao lâu để bay từ tokyo đến los angeles?   <sos>how long does it was in the station?<eos>', 'đó là một cái túi mà tôi bị mất trong phòng ngày hôm qua.   <sos>it was a little time i have been in this morning.<eos>', 'mary đang mặc một chiếc cà vạt   <sos>mary was a little different in the morning<eos>', \"tôi muốn một cuốn sách   <sos>i'd like some money.<eos>\"]\n"
     ]
    },
    {
     "name": "stderr",
     "output_type": "stream",
     "text": [
      "epoch: 2 | train loss: 0.39884  | lr: 6.000000e-05:   3%|▊                       | 502/15880 [01:19<3:04:17,  1.39it/s]"
     ]
    },
    {
     "name": "stdout",
     "output_type": "stream",
     "text": [
      "['mất bao lâu để bay từ tokyo đến los angeles?   <sos>how long does the station was the station?<eos>', 'đó là một cái túi mà tôi bị mất trong phòng ngày hôm qua.   <sos>it was a little time i have to go together today.<eos>', 'mary đang mặc một chiếc cà vạt   <sos>mary was a little time in the room<eos>', \"tôi muốn một cuốn sách   <sos>i'd like some money.<eos>\"]\n"
     ]
    },
    {
     "name": "stderr",
     "output_type": "stream",
     "text": [
      "epoch: 2 | train loss: 0.37195  | lr: 6.000000e-05:   6%|█▍                     | 1002/15880 [02:36<3:05:32,  1.34it/s]"
     ]
    },
    {
     "name": "stdout",
     "output_type": "stream",
     "text": [
      "['mất bao lâu để bay từ tokyo đến los angeles?   <sos>how long does that make the station in the station?<eos>', 'đó là một cái túi mà tôi bị mất trong phòng ngày hôm qua.   <sos>it was some money that i have to go to the party.<eos>', 'mary đang mặc một chiếc cà vạt   <sos>mary are a great and went out of the station<eos>', \"tôi muốn một cuốn sách   <sos>i'd like some moment.<eos>\"]\n"
     ]
    },
    {
     "name": "stderr",
     "output_type": "stream",
     "text": [
      "epoch: 2 | train loss: 0.38019  | lr: 6.000000e-05:   9%|██▏                    | 1502/15880 [03:52<2:59:19,  1.34it/s]"
     ]
    },
    {
     "name": "stdout",
     "output_type": "stream",
     "text": [
      "['mất bao lâu để bay từ tokyo đến los angeles?   <sos>how long does that they were to the station?<eos>', 'đó là một cái túi mà tôi bị mất trong phòng ngày hôm qua.   <sos>it was a little time i was in this morning.<eos>', 'mary đang mặc một chiếc cà vạt   <sos>mary was a little different into the train<eos>', \"tôi muốn một cuốn sách   <sos>i'd like some money.<eos>\"]\n"
     ]
    },
    {
     "name": "stderr",
     "output_type": "stream",
     "text": [
      "epoch: 2 | train loss: 0.38619  | lr: 6.000000e-05:  13%|██▉                    | 2002/15880 [05:08<2:48:30,  1.37it/s]"
     ]
    },
    {
     "name": "stdout",
     "output_type": "stream",
     "text": [
      "['mất bao lâu để bay từ tokyo đến los angeles?   <sos>how long does it was in the station in boston?<eos>', 'đó là một cái túi mà tôi bị mất trong phòng ngày hôm qua.   <sos>it was a little time i was in this morning.<eos>', 'mary đang mặc một chiếc cà vạt   <sos>mary was a little better than a while<eos>', \"tôi muốn một cuốn sách   <sos>i'd like some mistake<eos>\"]\n"
     ]
    },
    {
     "name": "stderr",
     "output_type": "stream",
     "text": [
      "epoch: 2 | train loss: 0.37917  | lr: 6.000000e-05:  16%|███▌                   | 2502/15880 [06:25<2:47:13,  1.33it/s]"
     ]
    },
    {
     "name": "stdout",
     "output_type": "stream",
     "text": [
      "['mất bao lâu để bay từ tokyo đến los angeles?   <sos>how many people does that the station was in boston?<eos>', 'đó là một cái túi mà tôi bị mất trong phòng ngày hôm qua.   <sos>it was a little time i was in this morning.<eos>', 'mary đang mặc một chiếc cà vạt   <sos>mary was a little different on the train<eos>', \"tôi muốn một cuốn sách   <sos>i'd like some money.<eos>\"]\n"
     ]
    },
    {
     "name": "stderr",
     "output_type": "stream",
     "text": [
      "epoch: 2 | train loss: 0.37592  | lr: 6.000000e-05:  19%|████▎                  | 3002/15880 [07:41<2:40:41,  1.34it/s]"
     ]
    },
    {
     "name": "stdout",
     "output_type": "stream",
     "text": [
      "['mất bao lâu để bay từ tokyo đến los angeles?   <sos>how long does have been coming in the station?<eos>', 'đó là một cái túi mà tôi bị mất trong phòng ngày hôm qua.   <sos>it was a little time i was in the car in the country.<eos>', 'mary đang mặc một chiếc cà vạt   <sos>mary was brought a little<eos>', 'tôi muốn một cuốn sách   <sos>i want something.<eos>']\n"
     ]
    },
    {
     "name": "stderr",
     "output_type": "stream",
     "text": [
      "epoch: 2 | train loss: 0.40181  | lr: 7.185118e-05:  22%|█████                  | 3502/15880 [08:58<2:34:22,  1.34it/s]"
     ]
    },
    {
     "name": "stdout",
     "output_type": "stream",
     "text": [
      "['mất bao lâu để bay từ tokyo đến los angeles?   <sos>how long does the station in the station?<eos>', 'đó là một cái túi mà tôi bị mất trong phòng ngày hôm qua.   <sos>it was a few minutes in the daughter in boston tomorrow.<eos>', 'mary đang mặc một chiếc cà vạt   <sos>mary was brought a chance<eos>', \"tôi muốn một cuốn sách   <sos>i'd like some children<eos>\"]\n"
     ]
    },
    {
     "name": "stderr",
     "output_type": "stream",
     "text": [
      "epoch: 2 | train loss: 0.39543  | lr: 9.263433e-05:  25%|█████▊                 | 4002/15880 [10:14<2:28:23,  1.33it/s]"
     ]
    },
    {
     "name": "stdout",
     "output_type": "stream",
     "text": [
      "['mất bao lâu để bay từ tokyo đến los angeles?   <sos>how long does it was in the station in boston?<eos>', \"đó là một cái túi mà tôi bị mất trong phòng ngày hôm qua.   <sos>it was a little time i've been in boston afternoon.<eos>\", 'mary đang mặc một chiếc cà vạt   <sos>mary was boring a few minutes<eos>', \"tôi muốn một cuốn sách   <sos>i'd like some morning<eos>\"]\n"
     ]
    },
    {
     "name": "stderr",
     "output_type": "stream",
     "text": [
      "epoch: 2 | train loss: 0.35921  | lr: 1.155269e-04:  28%|██████▌                | 4502/15880 [11:31<2:21:48,  1.34it/s]"
     ]
    },
    {
     "name": "stdout",
     "output_type": "stream",
     "text": [
      "['mất bao lâu để bay từ tokyo đến los angeles?   <sos>how many people does the station in boston?<eos>', 'đó là một cái túi mà tôi bị mất trong phòng ngày hôm qua.   <sos>it was a little time when i should bring tomorrow.<eos>', 'mary đang mặc một chiếc cà vạt   <sos>mary was watching a company<eos>', \"tôi muốn một cuốn sách   <sos>i'd like some mistake<eos>\"]\n"
     ]
    },
    {
     "name": "stderr",
     "output_type": "stream",
     "text": [
      "epoch: 2 | train loss: 0.39866  | lr: 1.402961e-04:  31%|███████▏               | 5002/15880 [12:47<2:15:47,  1.34it/s]"
     ]
    },
    {
     "name": "stdout",
     "output_type": "stream",
     "text": [
      "['mất bao lâu để bay từ tokyo đến los angeles?   <sos>how many times does the park in boston?<eos>', \"đó là một cái túi mà tôi bị mất trong phòng ngày hôm qua.   <sos>it was a man time to meet tom and mary's house.<eos>\", 'mary đang mặc một chiếc cà vạt   <sos>mary is being a big driver<eos>', \"tôi muốn một cuốn sách   <sos>i'd like a book.<eos>\"]\n"
     ]
    },
    {
     "name": "stderr",
     "output_type": "stream",
     "text": [
      "epoch: 2 | train loss: 0.37933  | lr: 1.666899e-04:  35%|███████▉               | 5502/15880 [14:04<2:09:02,  1.34it/s]"
     ]
    },
    {
     "name": "stdout",
     "output_type": "stream",
     "text": [
      "['mất bao lâu để bay từ tokyo đến los angeles?   <sos>how long is the station with their station?<eos>', \"đó là một cái túi mà tôi bị mất trong phòng ngày hôm qua.   <sos>it was a moment for me to give me in the company's house.<eos>\", 'mary đang mặc một chiếc cà vạt   <sos>mary is a good attention<eos>', \"tôi muốn một cuốn sách   <sos>i'd like some money.<eos>\"]\n"
     ]
    },
    {
     "name": "stderr",
     "output_type": "stream",
     "text": [
      "epoch: 2 | train loss: 0.39670  | lr: 1.944398e-04:  38%|████████▋              | 6002/15880 [15:20<2:03:23,  1.33it/s]"
     ]
    },
    {
     "name": "stdout",
     "output_type": "stream",
     "text": [
      "['mất bao lâu để bay từ tokyo đến los angeles?   <sos>how much does the park in boston?<eos>', 'đó là một cái túi mà tôi bị mất trong phòng ngày hôm qua.   <sos>it was a little time when i was in the room of the house.<eos>', 'mary đang mặc một chiếc cà vạt   <sos>mary are a little last night<eos>', \"tôi muốn một cuốn sách   <sos>i'd like a book.<eos>\"]\n"
     ]
    },
    {
     "name": "stderr",
     "output_type": "stream",
     "text": [
      "epoch: 2 | train loss: 0.37553  | lr: 2.232050e-04:  41%|██████████▏              | 6500/15880 [16:34<22:59,  6.80it/s]"
     ]
    },
    {
     "name": "stdout",
     "output_type": "stream",
     "text": [
      "['mất bao lâu để bay từ tokyo đến los angeles?   <sos>how long does that make mary came to boston?<eos>', 'đó là một cái túi mà tôi bị mất trong phòng ngày hôm qua.   <sos>it was a face that i have to make in boston.<eos>', 'mary đang mặc một chiếc cà vạt   <sos>mary is being a big company.<eos>', \"tôi muốn một cuốn sách   <sos>i'd like some months<eos>\"]\n"
     ]
    },
    {
     "name": "stderr",
     "output_type": "stream",
     "text": [
      "epoch: 2 | train loss: 0.38999  | lr: 2.528679e-04:  44%|██████████▏            | 7002/15880 [17:59<1:50:36,  1.34it/s]"
     ]
    },
    {
     "name": "stdout",
     "output_type": "stream",
     "text": [
      "['mất bao lâu để bay từ tokyo đến los angeles?   <sos>how long does that make mary come to boston?<eos>', 'đó là một cái túi mà tôi bị mất trong phòng ngày hôm qua.   <sos>it was an once that i was in this car after this machine.<eos>', 'mary đang mặc một chiếc cà vạt   <sos>mary was wearing alone for a while<eos>', \"tôi muốn một cuốn sách   <sos>i'd like some money.<eos>\"]\n"
     ]
    },
    {
     "name": "stderr",
     "output_type": "stream",
     "text": [
      "epoch: 2 | train loss: 0.37221  | lr: 2.828912e-04:  47%|███████████▊             | 7500/15880 [19:12<20:30,  6.81it/s]"
     ]
    },
    {
     "name": "stdout",
     "output_type": "stream",
     "text": [
      "['mất bao lâu để bay từ tokyo đến los angeles?   <sos>how did tom have been looking for the car?<eos>', 'đó là một cái túi mà tôi bị mất trong phòng ngày hôm qua.   <sos>it was a pretty time today tomorrow than tomorrow.<eos>', 'mary đang mặc một chiếc cà vạt   <sos>mary is a big some completely<eos>', \"tôi muốn một cuốn sách   <sos>i'd like a book.<eos>\"]\n"
     ]
    },
    {
     "name": "stderr",
     "output_type": "stream",
     "text": [
      "epoch: 2 | train loss: 0.37942  | lr: 3.132089e-04:  50%|███████████▌           | 8002/15880 [20:37<1:38:18,  1.34it/s]"
     ]
    },
    {
     "name": "stdout",
     "output_type": "stream",
     "text": [
      "['mất bao lâu để bay từ tokyo đến los angeles?   <sos>how long does the plane have been coming to boston?<eos>', 'đó là một cái túi mà tôi bị mất trong phòng ngày hôm qua.   <sos>it was a good father than i am in this house.<eos>', 'mary đang mặc một chiếc cà vạt   <sos>mary went on a chance of the concert<eos>', 'tôi muốn một cuốn sách   <sos>i want a good children.<eos>']\n"
     ]
    },
    {
     "name": "stderr",
     "output_type": "stream",
     "text": [
      "epoch: 2 | train loss: 0.38744  | lr: 3.433317e-04:  54%|████████████▎          | 8502/15880 [21:53<1:22:06,  1.50it/s]"
     ]
    },
    {
     "name": "stdout",
     "output_type": "stream",
     "text": [
      "['mất bao lâu để bay từ tokyo đến los angeles?   <sos>how many times does the train their station?<eos>', \"đó là một cái túi mà tôi bị mất trong phòng ngày hôm qua.   <sos>it was a little time with me this morning's house.<eos>\", 'mary đang mặc một chiếc cà vạt   <sos>mary was brought a mistake<eos>', \"tôi muốn một cuốn sách   <sos>i'd like someone.<eos>\"]\n"
     ]
    },
    {
     "name": "stderr",
     "output_type": "stream",
     "text": [
      "epoch: 2 | train loss: 0.39216  | lr: 3.730138e-04:  57%|█████████████          | 9002/15880 [23:09<1:23:56,  1.37it/s]"
     ]
    },
    {
     "name": "stdout",
     "output_type": "stream",
     "text": [
      "['mất bao lâu để bay từ tokyo đến los angeles?   <sos>how much time does the stairs are the station?<eos>', \"đó là một cái túi mà tôi bị mất trong phòng ngày hôm qua.   <sos>it was a few minutes i'm very interesting in this morning.<eos>\", 'mary đang mặc một chiếc cà vạt   <sos>mary were busy and and and friends<eos>', \"tôi muốn một cuốn sách   <sos>i'd like some<eos>\"]\n"
     ]
    },
    {
     "name": "stderr",
     "output_type": "stream",
     "text": [
      "epoch: 2 | train loss: 0.38085  | lr: 4.019531e-04:  60%|█████████████▊         | 9502/15880 [24:26<1:19:26,  1.34it/s]"
     ]
    },
    {
     "name": "stdout",
     "output_type": "stream",
     "text": [
      "['mất bao lâu để bay từ tokyo đến los angeles?   <sos>how many times does the station in the car?<eos>', 'đó là một cái túi mà tôi bị mất trong phòng ngày hôm qua.   <sos>it was a famous that i was in this morning.<eos>', 'mary đang mặc một chiếc cà vạt   <sos>mary was watching at a child<eos>', 'tôi muốn một cuốn sách   <sos>i wanted to be some morning<eos>']\n"
     ]
    },
    {
     "name": "stderr",
     "output_type": "stream",
     "text": [
      "epoch: 2 | train loss: 0.37556  | lr: 4.298553e-04:  63%|█████████████▊        | 10002/15880 [25:42<1:13:12,  1.34it/s]"
     ]
    },
    {
     "name": "stdout",
     "output_type": "stream",
     "text": [
      "['mất bao lâu để bay từ tokyo đến los angeles?   <sos>how much is the most time in the car?<eos>', 'đó là một cái túi mà tôi bị mất trong phòng ngày hôm qua.   <sos>that was a little time i was in this car.<eos>', 'mary đang mặc một chiếc cà vạt   <sos>mary were wearing a little<eos>', \"tôi muốn một cuốn sách   <sos>i'd like something<eos>\"]\n"
     ]
    },
    {
     "name": "stderr",
     "output_type": "stream",
     "text": [
      "epoch: 2 | train loss: 0.36197  | lr: 4.564365e-04:  66%|██████████████▌       | 10502/15880 [26:58<1:06:53,  1.34it/s]"
     ]
    },
    {
     "name": "stdout",
     "output_type": "stream",
     "text": [
      "['mất bao lâu để bay từ tokyo đến los angeles?   <sos>how many times does tom have been looking in boston?<eos>', \"đó là một cái túi mà tôi bị mất trong phòng ngày hôm qua.   <sos>that's a very morning when i was in this change in this morning.<eos>\", 'mary đang mặc một chiếc cà vạt   <sos>mary is alone with a few hours<eos>', \"tôi muốn một cuốn sách   <sos>i'd like some morning<eos>\"]\n"
     ]
    },
    {
     "name": "stderr",
     "output_type": "stream",
     "text": [
      "epoch: 2 | train loss: 0.39520  | lr: 4.814263e-04:  69%|███████████████▏      | 11002/15880 [28:15<1:00:50,  1.34it/s]"
     ]
    },
    {
     "name": "stdout",
     "output_type": "stream",
     "text": [
      "['mất bao lâu để bay từ tokyo đến los angeles?   <sos>how many times does the station in the rain?<eos>', \"đó là một cái túi mà tôi bị mất trong phòng ngày hôm qua.   <sos>that was a little time i've been in this house.<eos>\", 'mary đang mặc một chiếc cà vạt   <sos>mary is beating a couple of the company<eos>', \"tôi muốn một cuốn sách   <sos>i'd like some months<eos>\"]\n"
     ]
    },
    {
     "name": "stderr",
     "output_type": "stream",
     "text": [
      "epoch: 2 | train loss: 0.35104  | lr: 5.045706e-04:  72%|█████████████████▍      | 11502/15880 [29:31<54:38,  1.34it/s]"
     ]
    },
    {
     "name": "stdout",
     "output_type": "stream",
     "text": [
      "['mất bao lâu để bay từ tokyo đến los angeles?   <sos>how long did tom have finished tokyo?<eos>', 'đó là một cái túi mà tôi bị mất trong phòng ngày hôm qua.   <sos>that was a very failure for this building.<eos>', 'mary đang mặc một chiếc cà vạt   <sos>mary is wearing alone<eos>', \"tôi muốn một cuốn sách   <sos>i'd like some more than amazing<eos>\"]\n"
     ]
    },
    {
     "name": "stderr",
     "output_type": "stream",
     "text": [
      "epoch: 2 | train loss: 0.37868  | lr: 5.256338e-04:  76%|██████████████████▏     | 12002/15880 [30:48<48:28,  1.33it/s]"
     ]
    },
    {
     "name": "stdout",
     "output_type": "stream",
     "text": [
      "['mất bao lâu để bay từ tokyo đến los angeles?   <sos>how long does it to buy tomorrow to boston?<eos>', 'đó là một cái túi mà tôi bị mất trong phòng ngày hôm qua.   <sos>it was a very time when i was in this morning.<eos>', 'mary đang mặc một chiếc cà vạt   <sos>mary was watching as a house<eos>', \"tôi muốn một cuốn sách   <sos>i'd like some more myself<eos>\"]\n"
     ]
    },
    {
     "name": "stderr",
     "output_type": "stream",
     "text": [
      "epoch: 2 | train loss: 0.40801  | lr: 5.444018e-04:  79%|██████████████████▉     | 12502/15880 [32:04<42:14,  1.33it/s]"
     ]
    },
    {
     "name": "stdout",
     "output_type": "stream",
     "text": [
      "['mất bao lâu để bay từ tokyo đến los angeles?   <sos>how long does the station does tomorrow is listening together?<eos>', 'đó là một cái túi mà tôi bị mất trong phòng ngày hôm qua.   <sos>it was a very family that i was supposed today.<eos>', 'mary đang mặc một chiếc cà vạt   <sos>mary was a house and and succeeded around<eos>', 'tôi muốn một cuốn sách   <sos>i would like some.<eos>']\n"
     ]
    },
    {
     "name": "stderr",
     "output_type": "stream",
     "text": [
      "epoch: 2 | train loss: 0.36814  | lr: 5.606835e-04:  82%|███████████████████▋    | 13002/15880 [33:20<35:09,  1.36it/s]"
     ]
    },
    {
     "name": "stdout",
     "output_type": "stream",
     "text": [
      "['mất bao lâu để bay từ tokyo đến los angeles?   <sos>how long was that tom have to been last night?<eos>', \"đó là một cái túi mà tôi bị mất trong phòng ngày hôm qua.   <sos>that was a little time i've been interested into this mother.<eos>\", 'mary đang mặc một chiếc cà vạt   <sos>mary was busy for a parents and and then<eos>', \"tôi muốn một cuốn sách   <sos>i'd like a good life<eos>\"]\n"
     ]
    },
    {
     "name": "stderr",
     "output_type": "stream",
     "text": [
      "epoch: 2 | train loss: 0.35258  | lr: 5.743134e-04:  85%|████████████████████▍   | 13502/15880 [34:37<29:41,  1.33it/s]"
     ]
    },
    {
     "name": "stdout",
     "output_type": "stream",
     "text": [
      "['mất bao lâu để bay từ tokyo đến los angeles?   <sos>how many places to the station last night?<eos>', 'đó là một cái túi mà tôi bị mất trong phòng ngày hôm qua.   <sos>it was an english for me into this station.<eos>', 'mary đang mặc một chiếc cà vạt   <sos>mary was an english and and the station<eos>', \"tôi muốn một cuốn sách   <sos>i'd like some books.<eos>\"]\n"
     ]
    },
    {
     "name": "stderr",
     "output_type": "stream",
     "text": [
      "epoch: 2 | train loss: 0.38688  | lr: 5.851528e-04:  88%|█████████████████████▏  | 14002/15880 [35:53<23:22,  1.34it/s]"
     ]
    },
    {
     "name": "stdout",
     "output_type": "stream",
     "text": [
      "['mất bao lâu để bay từ tokyo đến los angeles?   <sos>how many children arrived in boston?<eos>', \"đó là một cái túi mà tôi bị mất trong phòng ngày hôm qua.   <sos>that's a bigger time where i was three days.<eos>\", 'mary đang mặc một chiếc cà vạt   <sos>mary is meeting<eos>', \"tôi muốn một cuốn sách   <sos>i'd like some books.<eos>\"]\n"
     ]
    },
    {
     "name": "stderr",
     "output_type": "stream",
     "text": [
      "epoch: 2 | train loss: 0.37577  | lr: 5.930915e-04:  91%|█████████████████████▉  | 14502/15880 [37:10<16:49,  1.37it/s]"
     ]
    },
    {
     "name": "stdout",
     "output_type": "stream",
     "text": [
      "['mất bao lâu để bay từ tokyo đến los angeles?   <sos>how long does that tom have been from boston?<eos>', \"đó là một cái túi mà tôi bị mất trong phòng ngày hôm qua.   <sos>that's a very since i've been very morning today.<eos>\", 'mary đang mặc một chiếc cà vạt   <sos>mary is a beautiful<eos>', 'tôi muốn một cuốn sách   <sos>i would like some book.<eos>']\n"
     ]
    },
    {
     "name": "stderr",
     "output_type": "stream",
     "text": [
      "epoch: 2 | train loss: 0.39251  | lr: 5.980486e-04:  94%|██████████████████████▋ | 15002/15880 [38:26<10:57,  1.33it/s]"
     ]
    },
    {
     "name": "stdout",
     "output_type": "stream",
     "text": [
      "['mất bao lâu để bay từ tokyo đến los angeles?   <sos>how long does tom start from the station is listening?<eos>', 'đó là một cái túi mà tôi bị mất trong phòng ngày hôm qua.   <sos>it was a little time i was in this room.<eos>', 'mary đang mặc một chiếc cà vạt   <sos>mary is businessing and the children.<eos>', \"tôi muốn một cuốn sách   <sos>i'd like some children.<eos>\"]\n"
     ]
    },
    {
     "name": "stderr",
     "output_type": "stream",
     "text": [
      "epoch: 2 | train loss: 0.38302  | lr: 5.999738e-04:  98%|███████████████████████▍| 15502/15880 [39:42<04:32,  1.39it/s]"
     ]
    },
    {
     "name": "stdout",
     "output_type": "stream",
     "text": [
      "['mất bao lâu để bay từ tokyo đến los angeles?   <sos>how much longer does the next time?<eos>', \"đó là một cái túi mà tôi bị mất trong phòng ngày hôm qua.   <sos>that's a very little time i've been in this room.<eos>\", 'mary đang mặc một chiếc cà vạt   <sos>mary was listening for a few house<eos>', \"tôi muốn một cuốn sách   <sos>i'd like some books.<eos>\"]\n"
     ]
    },
    {
     "name": "stderr",
     "output_type": "stream",
     "text": [
      "epoch: 2 | train loss: 0.34331  | lr: 5.994036e-04: 100%|████████████████████████| 15880/15880 [40:38<00:00,  6.51it/s]\n"
     ]
    }
   ],
   "source": [
    "trainer.train()"
   ]
  },
  {
   "cell_type": "code",
   "execution_count": 39,
   "metadata": {},
   "outputs": [
    {
     "name": "stdout",
     "output_type": "stream",
     "text": [
      "thời tiết hôm nay thật đẹp!   <sos>what is the weather for the mountain!<eos>\n",
      "xin chào   <sos>please come.<eos>\n",
      "bạn đã ăn sáng chưa?   <sos>have you eaten the morning?<eos>\n",
      "\n"
     ]
    }
   ],
   "source": [
    "samples = [\"thời tiết hôm nay thật đẹp!\", \n",
    "          \"xin chào\", \n",
    "          \"bạn đã ăn sáng chưa?\"]\n",
    "result = model.generate_output(samples, dataset, top_k=3)\n",
    "print(result)"
   ]
  },
  {
   "cell_type": "code",
   "execution_count": null,
   "metadata": {},
   "outputs": [],
   "source": []
  }
 ],
 "metadata": {
  "kernelspec": {
   "display_name": "Python 3",
   "language": "python",
   "name": "python3"
  },
  "language_info": {
   "codemirror_mode": {
    "name": "ipython",
    "version": 3
   },
   "file_extension": ".py",
   "mimetype": "text/x-python",
   "name": "python",
   "nbconvert_exporter": "python",
   "pygments_lexer": "ipython3",
   "version": "3.7.6"
  }
 },
 "nbformat": 4,
 "nbformat_minor": 4
}
