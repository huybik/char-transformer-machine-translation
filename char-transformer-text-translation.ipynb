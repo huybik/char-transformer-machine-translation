{
 "cells": [
  {
   "cell_type": "markdown",
   "metadata": {},
   "source": [
    "# Char level transformer for Machine translation\n",
    "To do translation, we'll use sequence-to-sequence model: an encoder encode the input and decoder using both the encode and raw output to predict. \n",
    "\n",
    "This is similar to char-transformer for language modeling, but we will add an encoder, and in place of top-k output when we generate text we'll use top-1 beam search output.\n",
    "\n",
    "<img src='images/transformer.png' width=400>\n",
    "<a href=\"https://www.kaggle.com/hungnm/englishvietnamese-translation\">English-Vietnamese dataset</a>"
   ]
  },
  {
   "cell_type": "code",
   "execution_count": 2,
   "metadata": {},
   "outputs": [],
   "source": [
    "import numpy as np\n",
    "import torch\n",
    "from torch.utils.data import Dataset, DataLoader\n",
    "\n",
    "import logging\n",
    "logging.basicConfig(\n",
    "        format=\"%(asctime)s - %(levelname)s - %(name)s -   %(message)s\",\n",
    "        datefmt=\"%m/%d/%Y %H:%M:%S\",\n",
    "        level=logging.INFO,\n",
    ")\n",
    "\n",
    "%load_ext autoreload\n",
    "%autoreload 2\n",
    "%matplotlib inline"
   ]
  },
  {
   "cell_type": "code",
   "execution_count": 3,
   "metadata": {},
   "outputs": [],
   "source": [
    "class CharDataset(Dataset):\n",
    "    '''\n",
    "    Dataset is a iterable that returns input and target sentence. It adds <sos> at the begining, and <eos> at the end, \n",
    "    and filling in <pad> if sentence length is less than pre-defined value.\n",
    "    '''\n",
    "    def __init__(self, x, y, sequence_len):\n",
    "        # data in the type of pairs of sentence\n",
    "\n",
    "        data = ''.join(x+y)\n",
    "        chars = ['<pad>'] +['<sos>'] + ['<eos>'] + sorted(list(set(data)))\n",
    "        data_size, vocab_size = len(data), len(chars)\n",
    "\n",
    "        print('data has %d characters, %d unique chars, %d sentences.' % (data_size, len(chars), len(x)))\n",
    "        print('%d sentence length' % (sequence_len))\n",
    "        \n",
    "        self.x, self.y = x, y\n",
    "        self.ch2i = {ch:i for i,ch in enumerate(chars)}\n",
    "        self.i2ch = {i:ch for i,ch in enumerate(chars)}\n",
    "        self.vocab_size = vocab_size\n",
    "        self.sequence_len = sequence_len\n",
    "    \n",
    "    def __len__(self):\n",
    "        return len(self.x) # len x = y\n",
    "    \n",
    "    def __getitem__(self, idx):\n",
    "        indx = self.padding([self.ch2i[ch] for ch in self.x[idx]] + [self.ch2i['<eos>']])\n",
    "        indy = [self.ch2i['<sos>']] + self.padding([self.ch2i[ch] for ch in self.y[idx]] + [self.ch2i['<eos>']])\n",
    "\n",
    "        x = torch.tensor(indx, dtype=torch.long)\n",
    "        y = torch.tensor(indy, dtype=torch.long)\n",
    "                                                                                                                               \n",
    "        return x,y\n",
    "                                                                                                                               \n",
    "    def padding(self, string):\n",
    "        if len(string)<self.sequence_len:\n",
    "            string =  string + [0]*(self.sequence_len - len(string))\n",
    "        else:\n",
    "            string = string[:self.sequence_len -1] + [self.ch2i['<eos>']]\n",
    "                   \n",
    "        return string\n",
    "                                                                                                                               \n"
   ]
  },
  {
   "cell_type": "code",
   "execution_count": 4,
   "metadata": {},
   "outputs": [
    {
     "name": "stdout",
     "output_type": "stream",
     "text": [
      "bạn đã ở đám cưới của tôi | you were at my wedding\n",
      "tại sao bạn không quan tâm? | why aren't you interested?\n"
     ]
    }
   ],
   "source": [
    "# walk through data folder\n",
    "import os\n",
    "text = {}\n",
    "for (dirpath, dirnames, filenames) in os.walk(\"data\"):\n",
    "    for name in filenames:\n",
    "        path = os.path.join(dirpath, name)\n",
    "        with open(path, encoding='utf-8') as f:\n",
    "            text[name] = f.read().lower().split('\\n')\n",
    "\n",
    "x,y = text['vi_sents'], text['en_sents']\n",
    "\n",
    "# print some samples\n",
    "for i in range(-1,-3,-1):\n",
    "    print(x[i],'|',y[i])"
   ]
  },
  {
   "cell_type": "code",
   "execution_count": 5,
   "metadata": {},
   "outputs": [
    {
     "name": "stdout",
     "output_type": "stream",
     "text": [
      "data has 17367685 characters, 151 unique chars, 254090 sentences.\n",
      "81 sentence length\n",
      "sample tensors  (tensor([ 51,  36,  41,   3,  49,  48,  36,   3,  39,  71,  41,  34,   3,  82,\n",
      "        103,  47,   3,  41,  34,  86, 122,  36,   3,  44,  48,  65,  47,   3,\n",
      "         45,  60,  30,   3,  47,  45,  42,  41,  34,   3,  47, 127,   3,  30,\n",
      "         35, 118,  36,   2,   0,   0,   0,   0,   0,   0,   0,   0,   0,   0,\n",
      "          0,   0,   0,   0,   0,   0,   0,   0,   0,   0,   0,   0,   0,   0,\n",
      "          0,   0,   0,   0,   0,   0,   0,   0,   0,   0,   0]), tensor([ 1, 43, 39, 32, 28, 46, 32,  3, 43, 48, 47,  3, 47, 35, 32,  3, 31, 48,\n",
      "        46, 47, 43, 28, 41,  3, 36, 41,  3, 47, 35, 32,  3, 29, 45, 42, 42, 40,\n",
      "         3, 30, 39, 42, 46, 32, 47,  2,  0,  0,  0,  0,  0,  0,  0,  0,  0,  0,\n",
      "         0,  0,  0,  0,  0,  0,  0,  0,  0,  0,  0,  0,  0,  0,  0,  0,  0,  0,\n",
      "         0,  0,  0,  0,  0,  0,  0,  0,  0,  0]))\n",
      "vocab:  {'<pad>': 0, '<sos>': 1, '<eos>': 2, ' ': 3, '!': 4, '\"': 5, '$': 6, '%': 7, '&': 8, \"'\": 9, '+': 10, ',': 11, '-': 12, '.': 13, '/': 14, '0': 15, '1': 16, '2': 17, '3': 18, '4': 19, '5': 20, '6': 21, '7': 22, '8': 23, '9': 24, ':': 25, ';': 26, '?': 27, 'a': 28, 'b': 29, 'c': 30, 'd': 31, 'e': 32, 'f': 33, 'g': 34, 'h': 35, 'i': 36, 'j': 37, 'k': 38, 'l': 39, 'm': 40, 'n': 41, 'o': 42, 'p': 43, 'q': 44, 'r': 45, 's': 46, 't': 47, 'u': 48, 'v': 49, 'w': 50, 'x': 51, 'y': 52, 'z': 53, '\\xa0': 54, '¥': 55, '°': 56, '´': 57, 'º': 58, 'à': 59, 'á': 60, 'â': 61, 'ã': 62, 'ç': 63, 'è': 64, 'é': 65, 'ê': 66, 'ì': 67, 'í': 68, 'î': 69, 'ï': 70, 'ò': 71, 'ó': 72, 'ô': 73, 'õ': 74, 'ö': 75, 'ù': 76, 'ú': 77, 'ü': 78, 'ý': 79, 'ă': 80, 'č': 81, 'đ': 82, 'ĩ': 83, 'ũ': 84, 'ơ': 85, 'ư': 86, '̉': 87, '̣': 88, '̀': 89, 'а': 90, 'о': 91, 'ạ': 92, 'ả': 93, 'ấ': 94, 'ầ': 95, 'ẩ': 96, 'ẫ': 97, 'ậ': 98, 'ắ': 99, 'ằ': 100, 'ẳ': 101, 'ẵ': 102, 'ặ': 103, 'ẹ': 104, 'ẻ': 105, 'ẽ': 106, 'ế': 107, 'ề': 108, 'ể': 109, 'ễ': 110, 'ệ': 111, 'ỉ': 112, 'ị': 113, 'ọ': 114, 'ỏ': 115, 'ố': 116, 'ồ': 117, 'ổ': 118, 'ỗ': 119, 'ộ': 120, 'ớ': 121, 'ờ': 122, 'ở': 123, 'ỡ': 124, 'ợ': 125, 'ụ': 126, 'ủ': 127, 'ứ': 128, 'ừ': 129, 'ử': 130, 'ữ': 131, 'ự': 132, 'ỳ': 133, 'ỵ': 134, 'ỷ': 135, 'ỹ': 136, '\\u200b': 137, '\\u200e': 138, '–': 139, '’': 140, '\\u202f': 141, '₂': 142, '€': 143, '❤': 144, 'ﬁ': 145, 'ﬂ': 146, '️': 147, '\\ufeff': 148, '🌷': 149, '🌹': 150}\n"
     ]
    }
   ],
   "source": [
    "nine_nine_percentile = int(np.percentile([len(sen) for sen in x],99))\n",
    "dataset = CharDataset(x, y, sequence_len=nine_nine_percentile)\n",
    "\n",
    "print('sample tensors ', next(iter(dataset)))\n",
    "print(\"vocab: \", dataset.ch2i)"
   ]
  },
  {
   "cell_type": "markdown",
   "metadata": {},
   "source": [
    "# Building model"
   ]
  },
  {
   "cell_type": "code",
   "execution_count": 6,
   "metadata": {},
   "outputs": [],
   "source": [
    "from model.encode_decode_transformer import Transformer, TransformerConfig\n",
    "from utils.trainer import Trainer, TrainerConfig\n",
    "tconfig = TrainerConfig(max_epochs=2, batch_size=16, learning_rate=6e-4, grad_norm_clip=1.0, device='cuda',\n",
    "                       lr_decay=True, warmup_tokens=5000, ckpt_n_print_iter=500, ckpt_path='checkpoint/transformer_vn_en')\n",
    "\n",
    "mconfig = TransformerConfig(vocab_size=dataset.vocab_size, sequence_len=dataset.sequence_len, embed_dim=256,\n",
    "                           n_block=8, n_head=8, causal=None, device=tconfig.device)"
   ]
  },
  {
   "cell_type": "code",
   "execution_count": 7,
   "metadata": {
    "scrolled": false
   },
   "outputs": [
    {
     "name": "stderr",
     "output_type": "stream",
     "text": [
      "09/27/2021 21:21:39 - INFO - model.encode_decode_transformer -   number of parameters: 1.482982e+07\n"
     ]
    }
   ],
   "source": [
    "model = Transformer(mconfig)\n",
    "trainer = Trainer(model, dataset, tconfig, test_dataset=None, collate=None)"
   ]
  },
  {
   "cell_type": "code",
   "execution_count": null,
   "metadata": {},
   "outputs": [],
   "source": [
    "# load pre-trained weights\n",
    "from utils.utils import pickle\n",
    "model.load_state_dict(pickle(tconfig.ckpt_path)) # load"
   ]
  },
  {
   "cell_type": "code",
   "execution_count": 10,
   "metadata": {
    "scrolled": true
   },
   "outputs": [
    {
     "name": "stderr",
     "output_type": "stream",
     "text": [
      "epoch: 1 | train loss: 0.08645  | lr: 1.920000e-06:   0%|                                    | 0/15880 [00:00<?, ?it/s]"
     ]
    },
    {
     "name": "stdout",
     "output_type": "stream",
     "text": [
      "mary đang mặc một chiếc cà vạt | <sos>i like a couple of the course<eos>\n",
      "tôi muốn một cuốn sách | <sos>i want some life<eos>\n",
      "\n"
     ]
    },
    {
     "name": "stderr",
     "output_type": "stream",
     "text": [
      "epoch: 1 | train loss: 0.41381  | lr: 5.997830e-04:   3%|▊                         | 500/15880 [01:31<43:23,  5.91it/s]"
     ]
    },
    {
     "name": "stdout",
     "output_type": "stream",
     "text": [
      "mất bao lâu để bay từ tokyo đến los angeles? | <sos>how much does the place is the world in boston?<eos>\n",
      "đó là một cái túi mà tôi bị mất trong phòng ngày hôm qua. | <sos>that's some one of my one of this place.<eos>\n",
      "mary đang mặc một chiếc cà vạt | <sos>mary is a little time in the room<eos>\n",
      "tôi muốn một cuốn sách | <sos>i'd like some of the book.<eos>\n",
      "\n"
     ]
    },
    {
     "name": "stderr",
     "output_type": "stream",
     "text": [
      "epoch: 1 | train loss: 0.40981  | lr: 5.971005e-04:   6%|█▍                     | 1002/15880 [03:07<3:24:37,  1.21it/s]"
     ]
    },
    {
     "name": "stdout",
     "output_type": "stream",
     "text": [
      "mất bao lâu để bay từ tokyo đến los angeles? | <sos>how long does have this been to leave this books in boston?<eos>\n",
      "đó là một cái túi mà tôi bị mất trong phòng ngày hôm qua. | <sos>that's one of the time i have been here.<eos>\n",
      "mary đang mặc một chiếc cà vạt | <sos>mary are having a big big hand<eos>\n",
      "tôi muốn một cuốn sách | <sos>i'd like some more.<eos>\n",
      "\n"
     ]
    },
    {
     "name": "stderr",
     "output_type": "stream",
     "text": [
      "epoch: 1 | train loss: 0.39630  | lr: 5.914125e-04:   9%|██▎                      | 1500/15880 [04:30<40:12,  5.96it/s]"
     ]
    },
    {
     "name": "stdout",
     "output_type": "stream",
     "text": [
      "mất bao lâu để bay từ tokyo đến los angeles? | <sos>how long did you come to the same of the same?<eos>\n",
      "đó là một cái túi mà tôi bị mất trong phòng ngày hôm qua. | <sos>that's a good and i have a children of this house.<eos>\n",
      "mary đang mặc một chiếc cà vạt | <sos>mary was a good and got one of the same coffee<eos>\n",
      "tôi muốn một cuốn sách | <sos>i'd like some of the book<eos>\n",
      "\n"
     ]
    },
    {
     "name": "stderr",
     "output_type": "stream",
     "text": [
      "epoch: 1 | train loss: 0.38993  | lr: 5.827313e-04:  13%|██▉                    | 2002/15880 [06:06<3:14:25,  1.19it/s]"
     ]
    },
    {
     "name": "stdout",
     "output_type": "stream",
     "text": [
      "mất bao lâu để bay từ tokyo đến los angeles? | <sos>how long does the children are the book?<eos>\n",
      "đó là một cái túi mà tôi bị mất trong phòng ngày hôm qua. | <sos>that was an explanation for me at the country.<eos>\n",
      "mary đang mặc một chiếc cà vạt | <sos>mary was busy and and and computer<eos>\n",
      "tôi muốn một cuốn sách | <sos>i'd like to be drinking.<eos>\n",
      "\n"
     ]
    },
    {
     "name": "stderr",
     "output_type": "stream",
     "text": [
      "epoch: 1 | train loss: 0.36832  | lr: 5.711885e-04:  16%|███▌                   | 2502/15880 [07:32<3:01:37,  1.23it/s]"
     ]
    },
    {
     "name": "stdout",
     "output_type": "stream",
     "text": [
      "mất bao lâu để bay từ tokyo đến los angeles? | <sos>how long did tom get to boston?<eos>\n",
      "đó là một cái túi mà tôi bị mất trong phòng ngày hôm qua. | <sos>it was an exactly that i was interested tomorrow.<eos>\n",
      "mary đang mặc một chiếc cà vạt | <sos>mary was a busy and an apple<eos>\n",
      "tôi muốn một cuốn sách | <sos>i wanted to be some morning.<eos>\n",
      "\n"
     ]
    },
    {
     "name": "stderr",
     "output_type": "stream",
     "text": [
      "epoch: 1 | train loss: 0.40088  | lr: 5.568869e-04:  19%|████▎                  | 3002/15880 [08:59<2:46:24,  1.29it/s]"
     ]
    },
    {
     "name": "stdout",
     "output_type": "stream",
     "text": [
      "mất bao lâu để bay từ tokyo đến los angeles? | <sos>when were the plane to boston in boston? boston?s? in boston?<eos>\n",
      "đó là một cái túi mà tôi bị mất trong phòng ngày hôm qua. | <sos>that's a moment for me that tom was happening tomorrow.<eos>\n",
      "mary đang mặc một chiếc cà vạt | <sos>mary were one of the best<eos>\n",
      "tôi muốn một cuốn sách | <sos>i wanted some people<eos>\n",
      "\n"
     ]
    },
    {
     "name": "stderr",
     "output_type": "stream",
     "text": [
      "epoch: 1 | train loss: 0.38182  | lr: 5.399722e-04:  22%|█████                  | 3502/15880 [10:26<2:42:36,  1.27it/s]"
     ]
    },
    {
     "name": "stdout",
     "output_type": "stream",
     "text": [
      "mất bao lâu để bay từ tokyo đến los angeles? | <sos>how many parents are the time in boston in boston?<eos>\n",
      "đó là một cái túi mà tôi bị mất trong phòng ngày hôm qua. | <sos>it's a very happy with me in this morning.<eos>\n",
      "mary đang mặc một chiếc cà vạt | <sos>mary was watching a car and the couple of the window<eos>\n",
      "tôi muốn một cuốn sách | <sos>i would like some morning<eos>\n",
      "\n"
     ]
    },
    {
     "name": "stderr",
     "output_type": "stream",
     "text": [
      "epoch: 1 | train loss: 0.34620  | lr: 5.206573e-04:  25%|██████▎                  | 4000/15880 [11:49<32:57,  6.01it/s]"
     ]
    },
    {
     "name": "stdout",
     "output_type": "stream",
     "text": [
      "mất bao lâu để bay từ tokyo đến los angeles? | <sos>how many times does the station is in the station?<eos>\n",
      "đó là một cái túi mà tôi bị mất trong phòng ngày hôm qua. | <sos>that was a little time i've been interested today.<eos>\n",
      "mary đang mặc một chiếc cà vạt | <sos>mary is a minute in a few minutes<eos>\n",
      "tôi muốn một cuốn sách | <sos>i'd like some month<eos>\n",
      "\n"
     ]
    },
    {
     "name": "stderr",
     "output_type": "stream",
     "text": [
      "epoch: 1 | train loss: 0.34075  | lr: 4.990161e-04:  28%|██████▌                | 4502/15880 [13:25<2:32:53,  1.24it/s]"
     ]
    },
    {
     "name": "stdout",
     "output_type": "stream",
     "text": [
      "mất bao lâu để bay từ tokyo đến los angeles? | <sos>how long does the dance in boston to boston, please?<eos>\n",
      "đó là một cái túi mà tôi bị mất trong phòng ngày hôm qua. | <sos>that's a good time i've seen tomorrow.<eos>\n",
      "mary đang mặc một chiếc cà vạt | <sos>mary was seeing a new computer<eos>\n",
      "tôi muốn một cuốn sách | <sos>i wanted a good drink.<eos>\n",
      "\n"
     ]
    },
    {
     "name": "stderr",
     "output_type": "stream",
     "text": [
      "epoch: 1 | train loss: 0.34196  | lr: 4.754405e-04:  31%|███████▊                 | 5000/15880 [14:48<30:19,  5.98it/s]"
     ]
    },
    {
     "name": "stdout",
     "output_type": "stream",
     "text": [
      "mất bao lâu để bay từ tokyo đến los angeles? | <sos>how much does tom happened in the car to the station?<eos>\n",
      "đó là một cái túi mà tôi bị mất trong phòng ngày hôm qua. | <sos>that was a very father i was in this station.<eos>\n",
      "mary đang mặc một chiếc cà vạt | <sos>mary was seeing a few hours and the train<eos>\n",
      "tôi muốn một cuốn sách | <sos>i would like some<eos>\n",
      "\n"
     ]
    },
    {
     "name": "stderr",
     "output_type": "stream",
     "text": [
      "epoch: 1 | train loss: 0.33195  | lr: 4.499825e-04:  35%|███████▉               | 5502/15880 [16:24<2:23:45,  1.20it/s]"
     ]
    },
    {
     "name": "stdout",
     "output_type": "stream",
     "text": [
      "mất bao lâu để bay từ tokyo đến los angeles? | <sos>how many children are tom to go to boston?<eos>\n",
      "đó là một cái túi mà tôi bị mất trong phòng ngày hôm qua. | <sos>that's one of my father is in this morning.<eos>\n",
      "mary đang mặc một chiếc cà vạt | <sos>mary is being a little for a few minutes<eos>\n",
      "tôi muốn một cuốn sách | <sos>i'd like some drinks.<eos>\n",
      "\n"
     ]
    },
    {
     "name": "stderr",
     "output_type": "stream",
     "text": [
      "epoch: 1 | train loss: 0.33198  | lr: 4.230479e-04:  38%|████████▋              | 6002/15880 [17:51<2:15:29,  1.22it/s]"
     ]
    },
    {
     "name": "stdout",
     "output_type": "stream",
     "text": [
      "mất bao lâu để bay từ tokyo đến los angeles? | <sos>how long was the concert to the concert to boston?<eos>\n",
      "đó là một cái túi mà tôi bị mất trong phòng ngày hôm qua. | <sos>it's a very good time for me in the day.<eos>\n",
      "mary đang mặc một chiếc cà vạt | <sos>mary was a big dead of these house<eos>\n",
      "tôi muốn một cuốn sách | <sos>i want some of the book.<eos>\n",
      "\n"
     ]
    },
    {
     "name": "stderr",
     "output_type": "stream",
     "text": [
      "epoch: 1 | train loss: 0.35782  | lr: 3.948616e-04:  41%|█████████▍             | 6502/15880 [19:17<2:11:27,  1.19it/s]"
     ]
    },
    {
     "name": "stdout",
     "output_type": "stream",
     "text": [
      "mất bao lâu để bay từ tokyo đến los angeles? | <sos>how much longer did you get to the next time?<eos>\n",
      "đó là một cái túi mà tôi bị mất trong phòng ngày hôm qua. | <sos>it was an information i have been interested in this morning.<eos>\n",
      "mary đang mặc một chiếc cà vạt | <sos>mary was seeing an appointment<eos>\n",
      "tôi muốn một cuốn sách | <sos>i'd like a book.<eos>\n",
      "\n"
     ]
    },
    {
     "name": "stderr",
     "output_type": "stream",
     "text": [
      "epoch: 1 | train loss: 0.33713  | lr: 3.657103e-04:  44%|██████████▏            | 7002/15880 [20:44<1:59:49,  1.23it/s]"
     ]
    },
    {
     "name": "stdout",
     "output_type": "stream",
     "text": [
      "mất bao lâu để bay từ tokyo đến los angeles? | <sos>how long does the change does tom come back?<eos>\n",
      "đó là một cái túi mà tôi bị mất trong phòng ngày hôm qua. | <sos>it was a little time i've been finished today.<eos>\n",
      "mary đang mặc một chiếc cà vạt | <sos>mary is being a big house and the train<eos>\n",
      "tôi muốn một cuốn sách | <sos>i want a book.<eos>\n",
      "\n"
     ]
    },
    {
     "name": "stderr",
     "output_type": "stream",
     "text": [
      "epoch: 1 | train loss: 0.33389  | lr: 3.358905e-04:  47%|██████████▊            | 7502/15880 [22:11<1:55:57,  1.20it/s]"
     ]
    },
    {
     "name": "stdout",
     "output_type": "stream",
     "text": [
      "mất bao lâu để bay từ tokyo đến los angeles? | <sos>how long does the change have been from boston?<eos>\n",
      "đó là một cái túi mà tôi bị mất trong phòng ngày hôm qua. | <sos>that's one thing i have seen in this room.<eos>\n",
      "mary đang mặc một chiếc cà vạt | <sos>mary is missing a few minutes<eos>\n",
      "tôi muốn một cuốn sách | <sos>i want a book.<eos>\n",
      "\n"
     ]
    },
    {
     "name": "stderr",
     "output_type": "stream",
     "text": [
      "epoch: 1 | train loss: 0.32727  | lr: 3.057662e-04:  50%|████████████▌            | 8000/15880 [23:35<21:58,  5.98it/s]"
     ]
    },
    {
     "name": "stdout",
     "output_type": "stream",
     "text": [
      "mất bao lâu để bay từ tokyo đến los angeles? | <sos>how many times does tomorrow?<eos>\n",
      "đó là một cái túi mà tôi bị mất trong phòng ngày hôm qua. | <sos>it was a strange that i was in the room.<eos>\n",
      "mary đang mặc một chiếc cà vạt | <sos>mary is meeting a house and<eos>\n",
      "tôi muốn một cuốn sách | <sos>i would like some books<eos>\n",
      "\n"
     ]
    },
    {
     "name": "stderr",
     "output_type": "stream",
     "text": [
      "epoch: 1 | train loss: 0.28577  | lr: 2.754628e-04:  54%|████████████▎          | 8502/15880 [25:12<1:52:57,  1.09it/s]"
     ]
    },
    {
     "name": "stdout",
     "output_type": "stream",
     "text": [
      "mất bao lâu để bay từ tokyo đến los angeles? | <sos>how many times are in tokyo to boston?<eos>\n",
      "đó là một cái túi mà tôi bị mất trong phòng ngày hôm qua. | <sos>it was a very beautiful i've been in this room.<eos>\n",
      "mary đang mặc một chiếc cà vạt | <sos>mary is caught a few hours and<eos>\n",
      "tôi muốn một cuốn sách | <sos>i'd like some books<eos>\n",
      "\n"
     ]
    },
    {
     "name": "stderr",
     "output_type": "stream",
     "text": [
      "epoch: 1 | train loss: 0.28110  | lr: 2.454695e-04:  57%|█████████████          | 9002/15880 [26:38<1:34:43,  1.21it/s]"
     ]
    },
    {
     "name": "stdout",
     "output_type": "stream",
     "text": [
      "mất bao lâu để bay từ tokyo đến los angeles? | <sos>how long does the building three times tomorrow's car?<eos>\n",
      "đó là một cái túi mà tôi bị mất trong phòng ngày hôm qua. | <sos>it was a very beautiful that i was interested yesterday.<eos>\n",
      "mary đang mặc một chiếc cà vạt | <sos>mary is wearing a few hours<eos>\n",
      "tôi muốn một cuốn sách | <sos>i want a book<eos>\n",
      "\n"
     ]
    },
    {
     "name": "stderr",
     "output_type": "stream",
     "text": [
      "epoch: 1 | train loss: 0.28162  | lr: 2.160309e-04:  60%|█████████████▊         | 9502/15880 [28:04<1:23:58,  1.27it/s]"
     ]
    },
    {
     "name": "stdout",
     "output_type": "stream",
     "text": [
      "mất bao lâu để bay từ tokyo đến los angeles? | <sos>how long does the table from boston from boston?<eos>\n",
      "đó là một cái túi mà tôi bị mất trong phòng ngày hôm qua. | <sos>that was a very sister in this room, please come back. yesterday. yesterday.<eos>\n",
      "mary đang mặc một chiếc cà vạt | <sos>mary is wearing a few hours<eos>\n",
      "tôi muốn một cuốn sách | <sos>i want a book.<eos>\n",
      "\n"
     ]
    },
    {
     "name": "stderr",
     "output_type": "stream",
     "text": [
      "epoch: 1 | train loss: 0.29928  | lr: 1.874465e-04:  63%|█████████████▊        | 10002/15880 [29:29<1:15:17,  1.30it/s]"
     ]
    },
    {
     "name": "stdout",
     "output_type": "stream",
     "text": [
      "mất bao lâu để bay từ tokyo đến los angeles? | <sos>how long does it take to take tomorrow to the car?<eos>\n",
      "đó là một cái túi mà tôi bị mất trong phòng ngày hôm qua. | <sos>that was a very mine i was in this house yesterday.<eos>\n",
      "mary đang mặc một chiếc cà vạt | <sos>mary is wearing a few hours and<eos>\n",
      "tôi muốn một cuốn sách | <sos>i want a book.<eos>\n",
      "\n"
     ]
    },
    {
     "name": "stderr",
     "output_type": "stream",
     "text": [
      "epoch: 1 | train loss: 0.28025  | lr: 1.600071e-04:  66%|██████████████▌       | 10502/15880 [30:54<1:13:39,  1.22it/s]"
     ]
    },
    {
     "name": "stdout",
     "output_type": "stream",
     "text": [
      "mất bao lâu để bay từ tokyo đến los angeles? | <sos>how long does it take to take up to tokyo?<eos>\n",
      "đó là một cái túi mà tôi bị mất trong phòng ngày hôm qua. | <sos>that was a very little time in this house yesterday.<eos>\n",
      "mary đang mặc một chiếc cà vạt | <sos>mary is wearing a few hours<eos>\n",
      "tôi muốn một cuốn sách | <sos>i want a book.<eos>\n",
      "\n"
     ]
    },
    {
     "name": "stderr",
     "output_type": "stream",
     "text": [
      "epoch: 1 | train loss: 0.27843  | lr: 1.339918e-04:  69%|███████████████▏      | 11002/15880 [32:19<1:01:19,  1.33it/s]"
     ]
    },
    {
     "name": "stdout",
     "output_type": "stream",
     "text": [
      "mất bao lâu để bay từ tokyo đến los angeles? | <sos>how long does it take to buy tokyo from the car?<eos>\n",
      "đó là một cái túi mà tôi bị mất trong phòng ngày hôm qua. | <sos>it was a little time i've seen this room in this room.<eos>\n",
      "mary đang mặc một chiếc cà vạt | <sos>mary is wearing a few hours<eos>\n",
      "tôi muốn một cuốn sách | <sos>i would like some books.<eos>\n",
      "\n"
     ]
    },
    {
     "name": "stderr",
     "output_type": "stream",
     "text": [
      "epoch: 1 | train loss: 0.27106  | lr: 1.096652e-04:  72%|█████████████████▍      | 11502/15880 [33:44<59:11,  1.23it/s]"
     ]
    },
    {
     "name": "stdout",
     "output_type": "stream",
     "text": [
      "mất bao lâu để bay từ tokyo đến los angeles? | <sos>how long does it take to take to tokyo tokyo?<eos>\n",
      "đó là một cái túi mà tôi bị mất trong phòng ngày hôm qua. | <sos>that's a little time i was in this room.<eos>\n",
      "mary đang mặc một chiếc cà vạt | <sos>mary is wearing a few hours<eos>\n",
      "tôi muốn một cuốn sách | <sos>i would like a book<eos>\n",
      "\n"
     ]
    },
    {
     "name": "stderr",
     "output_type": "stream",
     "text": [
      "epoch: 1 | train loss: 0.25943  | lr: 8.727482e-05:  76%|██████████████████▏     | 12002/15880 [35:10<54:55,  1.18it/s]"
     ]
    },
    {
     "name": "stdout",
     "output_type": "stream",
     "text": [
      "mất bao lâu để bay từ tokyo đến los angeles? | <sos>how long does it take from tokyo tokyo tokyo?<eos>\n",
      "đó là một cái túi mà tôi bị mất trong phòng ngày hôm qua. | <sos>it was a little time i've seen this room, please come yesterday. yesterday.<eos>\n",
      "mary đang mặc một chiếc cà vạt | <sos>mary is meting a few hours and<eos>\n",
      "tôi muốn một cuốn sách | <sos>i want some books.<eos>\n",
      "\n"
     ]
    },
    {
     "name": "stderr",
     "output_type": "stream",
     "text": [
      "epoch: 1 | train loss: 0.27577  | lr: 6.704842e-05:  79%|██████████████████▉     | 12502/15880 [36:35<45:56,  1.23it/s]"
     ]
    },
    {
     "name": "stdout",
     "output_type": "stream",
     "text": [
      "mất bao lâu để bay từ tokyo đến los angeles? | <sos>how long does it take to take to tokyo tokyo?<eos>\n",
      "đó là một cái túi mà tôi bị mất trong phòng ngày hôm qua. | <sos>it was a little while i was in this house yesterday.<eos>\n",
      "mary đang mặc một chiếc cà vạt | <sos>mary is wearing a few hours and<eos>\n",
      "tôi muốn một cuốn sách | <sos>i would like a book.<eos>\n",
      "\n"
     ]
    },
    {
     "name": "stderr",
     "output_type": "stream",
     "text": [
      "epoch: 1 | train loss: 0.27772  | lr: 6.000000e-05:  82%|███████████████████▋    | 13002/15880 [38:00<39:19,  1.22it/s]"
     ]
    },
    {
     "name": "stdout",
     "output_type": "stream",
     "text": [
      "mất bao lâu để bay từ tokyo đến los angeles? | <sos>how long does it take to take to take tom to the car?<eos>\n",
      "đó là một cái túi mà tôi bị mất trong phòng ngày hôm qua. | <sos>it was a little while i was in this house yesterday.<eos>\n",
      "mary đang mặc một chiếc cà vạt | <sos>mary is wearing a few hours<eos>\n",
      "tôi muốn một cuốn sách | <sos>i would like a book.<eos>\n",
      "\n"
     ]
    },
    {
     "name": "stderr",
     "output_type": "stream",
     "text": [
      "epoch: 1 | train loss: 0.28850  | lr: 6.000000e-05:  85%|████████████████████▍   | 13502/15880 [39:26<32:33,  1.22it/s]"
     ]
    },
    {
     "name": "stdout",
     "output_type": "stream",
     "text": [
      "mất bao lâu để bay từ tokyo đến los angeles? | <sos>how long does it take to buy tokyo tokyo?<eos>\n",
      "đó là một cái túi mà tôi bị mất trong phòng ngày hôm qua. | <sos>it was a little while i was in this house yesterday.<eos>\n",
      "mary đang mặc một chiếc cà vạt | <sos>mary is wearing a few hours<eos>\n",
      "tôi muốn một cuốn sách | <sos>i would like a book.<eos>\n",
      "\n"
     ]
    },
    {
     "name": "stderr",
     "output_type": "stream",
     "text": [
      "epoch: 1 | train loss: 0.27716  | lr: 6.000000e-05:  88%|█████████████████████▏  | 14002/15880 [40:51<25:03,  1.25it/s]"
     ]
    },
    {
     "name": "stdout",
     "output_type": "stream",
     "text": [
      "mất bao lâu để bay từ tokyo đến los angeles? | <sos>how long does it take to take from boston to the car?<eos>\n",
      "đó là một cái túi mà tôi bị mất trong phòng ngày hôm qua. | <sos>it was a little time i was in this house yesterday.<eos>\n",
      "mary đang mặc một chiếc cà vạt | <sos>mary is putting a few hours<eos>\n",
      "tôi muốn một cuốn sách | <sos>i want a book.<eos>\n",
      "\n"
     ]
    },
    {
     "name": "stderr",
     "output_type": "stream",
     "text": [
      "epoch: 1 | train loss: 0.27596  | lr: 6.000000e-05:  91%|█████████████████████▉  | 14500/15880 [42:13<03:49,  6.02it/s]"
     ]
    },
    {
     "name": "stdout",
     "output_type": "stream",
     "text": [
      "mất bao lâu để bay từ tokyo đến los angeles? | <sos>how many times does it take to take from boston?<eos>\n",
      "đó là một cái túi mà tôi bị mất trong phòng ngày hôm qua. | <sos>it was a little time i was in this room yesterday.<eos>\n",
      "mary đang mặc một chiếc cà vạt | <sos>mary is wearing a few hours and<eos>\n",
      "tôi muốn một cuốn sách | <sos>i would like a book<eos>\n",
      "\n"
     ]
    },
    {
     "name": "stderr",
     "output_type": "stream",
     "text": [
      "epoch: 1 | train loss: 0.26618  | lr: 6.000000e-05:  94%|██████████████████████▋ | 15002/15880 [43:47<12:03,  1.21it/s]"
     ]
    },
    {
     "name": "stdout",
     "output_type": "stream",
     "text": [
      "mất bao lâu để bay từ tokyo đến los angeles? | <sos>how many times does it take to tokyo to the car?<eos>\n",
      "đó là một cái túi mà tôi bị mất trong phòng ngày hôm qua. | <sos>it was a little time i was in this house yesterday.<eos>\n",
      "mary đang mặc một chiếc cà vạt | <sos>mary is wearing a few hours<eos>\n",
      "tôi muốn một cuốn sách | <sos>i would like a book.<eos>\n",
      "\n"
     ]
    },
    {
     "name": "stderr",
     "output_type": "stream",
     "text": [
      "epoch: 1 | train loss: 0.26345  | lr: 6.000000e-05:  98%|███████████████████████▍| 15502/15880 [45:13<04:42,  1.34it/s]"
     ]
    },
    {
     "name": "stdout",
     "output_type": "stream",
     "text": [
      "mất bao lâu để bay từ tokyo đến los angeles? | <sos>how long does it take to buy tokyo from the car?<eos>\n",
      "đó là một cái túi mà tôi bị mất trong phòng ngày hôm qua. | <sos>it was a little time i was in this house yesterday.<eos>\n",
      "mary đang mặc một chiếc cà vạt | <sos>mary is wearing a few hours<eos>\n",
      "tôi muốn một cuốn sách | <sos>i would like a book<eos>\n",
      "\n"
     ]
    },
    {
     "name": "stderr",
     "output_type": "stream",
     "text": [
      "epoch: 1 | train loss: 0.24169  | lr: 6.000000e-05: 100%|████████████████████████| 15880/15880 [46:15<00:00,  5.72it/s]\n",
      "epoch: 2 | train loss: 0.05296  | lr: 6.000000e-05:   0%|                          | 2/15880 [00:03<5:52:50,  1.33s/it]"
     ]
    },
    {
     "name": "stdout",
     "output_type": "stream",
     "text": [
      "mất bao lâu để bay từ tokyo đến los angeles? | <sos>how long does it take to take to get to boston?<eos>\n",
      "đó là một cái túi mà tôi bị mất trong phòng ngày hôm qua. | <sos>it was a little while i was in this house yesterday.<eos>\n",
      "mary đang mặc một chiếc cà vạt | <sos>mary is wearing a few hours<eos>\n",
      "tôi muốn một cuốn sách | <sos>i would like a book<eos>\n",
      "\n"
     ]
    },
    {
     "name": "stderr",
     "output_type": "stream",
     "text": [
      "epoch: 2 | train loss: 0.25816  | lr: 6.000000e-05:   3%|▊                         | 500/15880 [01:25<42:08,  6.08it/s]"
     ]
    },
    {
     "name": "stdout",
     "output_type": "stream",
     "text": [
      "mất bao lâu để bay từ tokyo đến los angeles? | <sos>how long does it take to buy tokyo from tokyo?<eos>\n",
      "đó là một cái túi mà tôi bị mất trong phòng ngày hôm qua. | <sos>it was a little time i was in this room yesterday.<eos>\n",
      "mary đang mặc một chiếc cà vạt | <sos>mary is wearing a few hours and<eos>\n",
      "tôi muốn một cuốn sách | <sos>i want a book.<eos>\n",
      "\n"
     ]
    },
    {
     "name": "stderr",
     "output_type": "stream",
     "text": [
      "epoch: 2 | train loss: 0.24790  | lr: 6.000000e-05:   6%|█▌                       | 1000/15880 [02:56<40:33,  6.11it/s]"
     ]
    },
    {
     "name": "stdout",
     "output_type": "stream",
     "text": [
      "mất bao lâu để bay từ tokyo đến los angeles? | <sos>how long does it take to take from tokyo tokyo?<eos>\n",
      "đó là một cái túi mà tôi bị mất trong phòng ngày hôm qua. | <sos>it was a little time i was in this house yesterday.<eos>\n",
      "mary đang mặc một chiếc cà vạt | <sos>mary is wearing a few hours<eos>\n",
      "tôi muốn một cuốn sách | <sos>i would like a book.<eos>\n",
      "\n"
     ]
    },
    {
     "name": "stderr",
     "output_type": "stream",
     "text": [
      "epoch: 2 | train loss: 0.26766  | lr: 6.000000e-05:   9%|██▏                    | 1502/15880 [04:31<3:16:21,  1.22it/s]"
     ]
    },
    {
     "name": "stdout",
     "output_type": "stream",
     "text": [
      "mất bao lâu để bay từ tokyo đến los angeles? | <sos>how long does it take to take from boston to the car?<eos>\n",
      "đó là một cái túi mà tôi bị mất trong phòng ngày hôm qua. | <sos>it was a little time i was in this room yesterday.<eos>\n",
      "mary đang mặc một chiếc cà vạt | <sos>mary is wearing a few hours<eos>\n",
      "tôi muốn một cuốn sách | <sos>i would like a book.<eos>\n",
      "\n"
     ]
    },
    {
     "name": "stderr",
     "output_type": "stream",
     "text": [
      "epoch: 2 | train loss: 0.26675  | lr: 6.000000e-05:  13%|██▉                    | 2002/15880 [05:56<3:03:15,  1.26it/s]"
     ]
    },
    {
     "name": "stdout",
     "output_type": "stream",
     "text": [
      "mất bao lâu để bay từ tokyo đến los angeles? | <sos>how long does it take to take from boston?<eos>\n",
      "đó là một cái túi mà tôi bị mất trong phòng ngày hôm qua. | <sos>it was a little time i was in this room yesterday.<eos>\n",
      "mary đang mặc một chiếc cà vạt | <sos>mary is wearing a few hours<eos>\n",
      "tôi muốn một cuốn sách | <sos>i would like a book.<eos>\n",
      "\n"
     ]
    },
    {
     "name": "stderr",
     "output_type": "stream",
     "text": [
      "epoch: 2 | train loss: 0.23151  | lr: 6.000000e-05:  16%|███▉                     | 2500/15880 [07:18<36:20,  6.14it/s]"
     ]
    },
    {
     "name": "stdout",
     "output_type": "stream",
     "text": [
      "mất bao lâu để bay từ tokyo đến los angeles? | <sos>how long does it take to take to boston to the car?<eos>\n",
      "đó là một cái túi mà tôi bị mất trong phòng ngày hôm qua. | <sos>that's a little big time in this room yesterday.<eos>\n",
      "mary đang mặc một chiếc cà vạt | <sos>mary is wearing a few hours and<eos>\n",
      "tôi muốn một cuốn sách | <sos>i would like a book.<eos>\n",
      "\n"
     ]
    },
    {
     "name": "stderr",
     "output_type": "stream",
     "text": [
      "epoch: 2 | train loss: 0.23625  | lr: 6.000000e-05:  19%|████▎                  | 3002/15880 [08:52<2:53:36,  1.24it/s]"
     ]
    },
    {
     "name": "stdout",
     "output_type": "stream",
     "text": [
      "mất bao lâu để bay từ tokyo đến los angeles? | <sos>how long does it take to take from boston to the car?<eos>\n",
      "đó là một cái túi mà tôi bị mất trong phòng ngày hôm qua. | <sos>that's a little time i was in this house yesterday.<eos>\n",
      "mary đang mặc một chiếc cà vạt | <sos>mary is wearing a few hours and<eos>\n",
      "tôi muốn một cuốn sách | <sos>i would like a book.<eos>\n",
      "\n"
     ]
    },
    {
     "name": "stderr",
     "output_type": "stream",
     "text": [
      "epoch: 2 | train loss: 0.25925  | lr: 7.185118e-05:  22%|█████                  | 3502/15880 [10:18<2:48:32,  1.22it/s]"
     ]
    },
    {
     "name": "stdout",
     "output_type": "stream",
     "text": [
      "mất bao lâu để bay từ tokyo đến los angeles? | <sos>how long does it take to take from tokyo tokyo?<eos>\n",
      "đó là một cái túi mà tôi bị mất trong phòng ngày hôm qua. | <sos>it was a little time i was in this room yesterday.<eos>\n",
      "mary đang mặc một chiếc cà vạt | <sos>mary is wearing a few hours and<eos>\n",
      "tôi muốn một cuốn sách | <sos>i would like a book.<eos>\n",
      "\n"
     ]
    },
    {
     "name": "stderr",
     "output_type": "stream",
     "text": [
      "epoch: 2 | train loss: 0.25768  | lr: 9.259058e-05:  25%|█████▊                 | 4001/15880 [11:45<4:05:11,  1.24s/it]"
     ]
    },
    {
     "name": "stdout",
     "output_type": "stream",
     "text": [
      "mất bao lâu để bay từ tokyo đến los angeles? | <sos>how long does it take to take from boston?<eos>\n",
      "đó là một cái túi mà tôi bị mất trong phòng ngày hôm qua. | <sos>that's a little time i was in this room yesterday.<eos>\n",
      "mary đang mặc một chiếc cà vạt | <sos>mary is wearing a few hours and<eos>\n",
      "tôi muốn một cuốn sách | <sos>i'd like a book<eos>\n",
      "\n"
     ]
    },
    {
     "name": "stderr",
     "output_type": "stream",
     "text": [
      "epoch: 2 | train loss: 0.23169  | lr: 1.154792e-04:  28%|███████                  | 4500/15880 [13:08<31:05,  6.10it/s]"
     ]
    },
    {
     "name": "stdout",
     "output_type": "stream",
     "text": [
      "mất bao lâu để bay từ tokyo đến los angeles? | <sos>how many times does it take to take from boston?<eos>\n",
      "đó là một cái túi mà tôi bị mất trong phòng ngày hôm qua. | <sos>that's a very gun with me in this room yesterday.<eos>\n",
      "mary đang mặc một chiếc cà vạt | <sos>mary is wearing a few hours<eos>\n",
      "tôi muốn một cuốn sách | <sos>i want another book.<eos>\n",
      "\n"
     ]
    },
    {
     "name": "stderr",
     "output_type": "stream",
     "text": [
      "epoch: 2 | train loss: 0.25516  | lr: 1.402961e-04:  31%|███████▏               | 5002/15880 [14:45<2:31:15,  1.20it/s]"
     ]
    },
    {
     "name": "stdout",
     "output_type": "stream",
     "text": [
      "mất bao lâu để bay từ tokyo đến los angeles? | <sos>how long does it take to buy tokyo from tokyo?<eos>\n",
      "đó là một cái túi mà tôi bị mất trong phòng ngày hôm qua. | <sos>it was a little time i've been sick in this room.<eos>\n",
      "mary đang mặc một chiếc cà vạt | <sos>mary is wearing a few hours and<eos>\n",
      "tôi muốn một cuốn sách | <sos>i want another book.<eos>\n",
      "\n"
     ]
    },
    {
     "name": "stderr",
     "output_type": "stream",
     "text": [
      "epoch: 2 | train loss: 0.25702  | lr: 1.666899e-04:  35%|███████▉               | 5502/15880 [16:13<2:26:55,  1.18it/s]"
     ]
    },
    {
     "name": "stdout",
     "output_type": "stream",
     "text": [
      "mất bao lâu để bay từ tokyo đến los angeles? | <sos>how long does it take to buy tokyo from tokyo?<eos>\n",
      "đó là một cái túi mà tôi bị mất trong phòng ngày hôm qua. | <sos>that's a very sister that i was in this house yesterday.<eos>\n",
      "mary đang mặc một chiếc cà vạt | <sos>mary is wearing a few hours<eos>\n",
      "tôi muốn một cuốn sách | <sos>i want some books.<eos>\n",
      "\n"
     ]
    },
    {
     "name": "stderr",
     "output_type": "stream",
     "text": [
      "epoch: 2 | train loss: 0.25409  | lr: 1.943831e-04:  38%|████████▋              | 6001/15880 [17:43<3:14:22,  1.18s/it]"
     ]
    },
    {
     "name": "stdout",
     "output_type": "stream",
     "text": [
      "mất bao lâu để bay từ tokyo đến los angeles? | <sos>how long does it take to take from boston to?<eos>\n",
      "đó là một cái túi mà tôi bị mất trong phòng ngày hôm qua. | <sos>it was one of my father in the room of the room yesterday.<eos>\n",
      "mary đang mặc một chiếc cà vạt | <sos>mary is wearing a few hours and<eos>\n",
      "tôi muốn một cuốn sách | <sos>i'd like some books.<eos>\n",
      "\n"
     ]
    },
    {
     "name": "stderr",
     "output_type": "stream",
     "text": [
      "epoch: 2 | train loss: 0.25364  | lr: 2.232635e-04:  41%|█████████▍             | 6502/15880 [19:13<2:15:30,  1.15it/s]"
     ]
    },
    {
     "name": "stdout",
     "output_type": "stream",
     "text": [
      "mất bao lâu để bay từ tokyo đến los angeles? | <sos>how long does it take to get to boston?<eos>\n",
      "đó là một cái túi mà tôi bị mất trong phòng ngày hôm qua. | <sos>that's a minute in the room of the station yesterday.<eos>\n",
      "mary đang mặc một chiếc cà vạt | <sos>mary is wearing a few hours and<eos>\n",
      "tôi muốn một cuốn sách | <sos>i want a book.<eos>\n",
      "\n"
     ]
    },
    {
     "name": "stderr",
     "output_type": "stream",
     "text": [
      "epoch: 2 | train loss: 0.27917  | lr: 2.528679e-04:  44%|██████████▏            | 7002/15880 [20:42<2:04:03,  1.19it/s]"
     ]
    },
    {
     "name": "stdout",
     "output_type": "stream",
     "text": [
      "mất bao lâu để bay từ tokyo đến los angeles? | <sos>how long does it take to take to boston to the next soon?<eos>\n",
      "đó là một cái túi mà tôi bị mất trong phòng ngày hôm qua. | <sos>it was a little time for me in this room yesterday.<eos>\n",
      "mary đang mặc một chiếc cà vạt | <sos>mary is wearing a few hours and<eos>\n",
      "tôi muốn một cuốn sách | <sos>i'd like a book.<eos>\n",
      "\n"
     ]
    },
    {
     "name": "stderr",
     "output_type": "stream",
     "text": [
      "epoch: 2 | train loss: 0.24747  | lr: 2.828912e-04:  47%|███████████▊             | 7500/15880 [22:09<24:32,  5.69it/s]"
     ]
    },
    {
     "name": "stdout",
     "output_type": "stream",
     "text": [
      "mất bao lâu để bay từ tokyo đến los angeles? | <sos>how long does it take to take to boston to the next?<eos>\n",
      "đó là một cái túi mà tôi bị mất trong phòng ngày hôm qua. | <sos>that's a very minute i was in this room yesterday.<eos>\n",
      "mary đang mặc một chiếc cà vạt | <sos>mary is wearing a few hours and a few hours<eos>\n",
      "tôi muốn một cuốn sách | <sos>i'd like a book.<eos>\n",
      "\n"
     ]
    },
    {
     "name": "stderr",
     "output_type": "stream",
     "text": [
      "epoch: 2 | train loss: 0.26869  | lr: 3.132089e-04:  50%|███████████▌           | 8002/15880 [23:47<1:51:35,  1.18it/s]"
     ]
    },
    {
     "name": "stdout",
     "output_type": "stream",
     "text": [
      "mất bao lâu để bay từ tokyo đến los angeles? | <sos>how long does it take to buy tokyo to the airport?<eos>\n",
      "đó là một cái túi mà tôi bị mất trong phòng ngày hôm qua. | <sos>that's a minute with me in this room around this room.<eos>\n",
      "mary đang mặc một chiếc cà vạt | <sos>mary is wearing a few hours and<eos>\n",
      "tôi muốn một cuốn sách | <sos>i want another book.<eos>\n",
      "\n"
     ]
    },
    {
     "name": "stderr",
     "output_type": "stream",
     "text": [
      "epoch: 2 | train loss: 0.27651  | lr: 3.432718e-04:  54%|████████████▎          | 8501/15880 [25:17<2:17:20,  1.12s/it]"
     ]
    },
    {
     "name": "stdout",
     "output_type": "stream",
     "text": [
      "mất bao lâu để bay từ tokyo đến los angeles? | <sos>how long did it take from tokyo from the car?<eos>\n",
      "đó là một cái túi mà tôi bị mất trong phòng ngày hôm qua. | <sos>it was a little time that i was in this room over yesterday.<eos>\n",
      "mary đang mặc một chiếc cà vạt | <sos>mary is wearing a few house<eos>\n",
      "tôi muốn một cuốn sách | <sos>i'd like a book.<eos>\n",
      "\n"
     ]
    },
    {
     "name": "stderr",
     "output_type": "stream",
     "text": [
      "epoch: 2 | train loss: 0.28833  | lr: 3.729551e-04:  57%|█████████████          | 9001/15880 [26:47<2:01:17,  1.06s/it]"
     ]
    },
    {
     "name": "stdout",
     "output_type": "stream",
     "text": [
      "mất bao lâu để bay từ tokyo đến los angeles? | <sos>how long does it take to boston from boston?<eos>\n",
      "đó là một cái túi mà tôi bị mất trong phòng ngày hôm qua. | <sos>that's a little time i've been in this room yesterday.<eos>\n",
      "mary đang mặc một chiếc cà vạt | <sos>mary is wearing<eos>\n",
      "tôi muốn một cuốn sách | <sos>i would like a book.<eos>\n",
      "\n"
     ]
    },
    {
     "name": "stderr",
     "output_type": "stream",
     "text": [
      "epoch: 2 | train loss: 0.28881  | lr: 4.019531e-04:  60%|█████████████▊         | 9502/15880 [28:17<1:30:40,  1.17it/s]"
     ]
    },
    {
     "name": "stdout",
     "output_type": "stream",
     "text": [
      "mất bao lâu để bay từ tokyo đến los angeles? | <sos>how many times are tom from boston?<eos>\n",
      "đó là một cái túi mà tôi bị mất trong phòng ngày hôm qua. | <sos>it was a little while i was in the room yesterday.<eos>\n",
      "mary đang mặc một chiếc cà vạt | <sos>mary was wearing a few hours<eos>\n",
      "tôi muốn một cuốn sách | <sos>i want a book.<eos>\n",
      "\n"
     ]
    },
    {
     "name": "stderr",
     "output_type": "stream",
     "text": [
      "epoch: 2 | train loss: 0.27402  | lr: 4.298553e-04:  63%|█████████████▊        | 10002/15880 [29:48<1:24:08,  1.16it/s]"
     ]
    },
    {
     "name": "stdout",
     "output_type": "stream",
     "text": [
      "mất bao lâu để bay từ tokyo đến los angeles? | <sos>how long does it take it take to get to the car?<eos>\n",
      "đó là một cái túi mà tôi bị mất trong phòng ngày hôm qua. | <sos>it was a very button in the room yesterday.<eos>\n",
      "mary đang mặc một chiếc cà vạt | <sos>mary is wearing a few hours<eos>\n",
      "tôi muốn một cuốn sách | <sos>i want a book.<eos>\n",
      "\n"
     ]
    },
    {
     "name": "stderr",
     "output_type": "stream",
     "text": [
      "epoch: 2 | train loss: 0.26954  | lr: 4.564365e-04:  66%|██████████████▌       | 10502/15880 [31:17<1:11:11,  1.26it/s]"
     ]
    },
    {
     "name": "stdout",
     "output_type": "stream",
     "text": [
      "mất bao lâu để bay từ tokyo đến los angeles? | <sos>how long does it take to go to boston?<eos>\n",
      "đó là một cái túi mà tôi bị mất trong phòng ngày hôm qua. | <sos>it was a little time i was in the room yesterday.<eos>\n",
      "mary đang mặc một chiếc cà vạt | <sos>mary is wearing a few hours<eos>\n",
      "tôi muốn một cuốn sách | <sos>i would like a book<eos>\n",
      "\n"
     ]
    },
    {
     "name": "stderr",
     "output_type": "stream",
     "text": [
      "epoch: 2 | train loss: 0.28590  | lr: 4.814263e-04:  69%|███████████████▏      | 11002/15880 [32:45<1:08:31,  1.19it/s]"
     ]
    },
    {
     "name": "stdout",
     "output_type": "stream",
     "text": [
      "mất bao lâu để bay từ tokyo đến los angeles? | <sos>how long does it take to get to boston tokyo?<eos>\n",
      "đó là một cái túi mà tôi bị mất trong phòng ngày hôm qua. | <sos>that's one more than i was in the room yesterday.<eos>\n",
      "mary đang mặc một chiếc cà vạt | <sos>mary is wearing a few hours<eos>\n",
      "tôi muốn một cuốn sách | <sos>i want a book.<eos>\n",
      "\n"
     ]
    },
    {
     "name": "stderr",
     "output_type": "stream",
     "text": [
      "epoch: 2 | train loss: 0.26701  | lr: 5.045706e-04:  72%|█████████████████▍      | 11502/15880 [34:12<58:16,  1.25it/s]"
     ]
    },
    {
     "name": "stdout",
     "output_type": "stream",
     "text": [
      "mất bao lâu để bay từ tokyo đến los angeles? | <sos>how long does it take to take from boston to the car?<eos>\n",
      "đó là một cái túi mà tôi bị mất trong phòng ngày hôm qua. | <sos>that's a little more that i was in the room.<eos>\n",
      "mary đang mặc một chiếc cà vạt | <sos>mary is wearing a few hours and<eos>\n",
      "tôi muốn một cuốn sách | <sos>i want a book.<eos>\n",
      "\n"
     ]
    },
    {
     "name": "stderr",
     "output_type": "stream",
     "text": [
      "epoch: 2 | train loss: 0.27019  | lr: 5.255939e-04:  76%|████████████████▋     | 12001/15880 [35:41<1:12:40,  1.12s/it]"
     ]
    },
    {
     "name": "stdout",
     "output_type": "stream",
     "text": [
      "mất bao lâu để bay từ tokyo đến los angeles? | <sos>how long does it take to take from boston?<eos>\n",
      "đó là một cái túi mà tôi bị mất trong phòng ngày hôm qua. | <sos>that's a little more than i was in the day.<eos>\n",
      "mary đang mặc một chiếc cà vạt | <sos>mary was wearing a house<eos>\n",
      "tôi muốn một cuốn sách | <sos>i would like a book.<eos>\n",
      "\n"
     ]
    },
    {
     "name": "stderr",
     "output_type": "stream",
     "text": [
      "epoch: 2 | train loss: 0.26461  | lr: 5.444018e-04:  79%|██████████████████▉     | 12502/15880 [37:11<48:05,  1.17it/s]"
     ]
    },
    {
     "name": "stdout",
     "output_type": "stream",
     "text": [
      "mất bao lâu để bay từ tokyo đến los angeles? | <sos>how long does it take to take to go to tokyo?<eos>\n",
      "đó là một cái túi mà tôi bị mất trong phòng ngày hôm qua. | <sos>it was a little more than i was in this room yesterday.<eos>\n",
      "mary đang mặc một chiếc cà vạt | <sos>mary is wearing a few hours and a few hours<eos>\n",
      "tôi muốn một cuốn sách | <sos>i would like a book<eos>\n",
      "\n"
     ]
    },
    {
     "name": "stderr",
     "output_type": "stream",
     "text": [
      "epoch: 2 | train loss: 0.26799  | lr: 5.606535e-04:  82%|███████████████████▋    | 13001/15880 [38:39<58:18,  1.22s/it]"
     ]
    },
    {
     "name": "stdout",
     "output_type": "stream",
     "text": [
      "mất bao lâu để bay từ tokyo đến los angeles? | <sos>how long does it take to take from tokyo tokyo?<eos>\n",
      "đó là một cái túi mà tôi bị mất trong phòng ngày hôm qua. | <sos>that's an interesting minute in the room yesterday.<eos>\n",
      "mary đang mặc một chiếc cà vạt | <sos>mary is wearing a house<eos>\n",
      "tôi muốn một cuốn sách | <sos>i'd like a book.<eos>\n",
      "\n"
     ]
    },
    {
     "name": "stderr",
     "output_type": "stream",
     "text": [
      "epoch: 2 | train loss: 0.25859  | lr: 5.742889e-04:  85%|██████████████████▋   | 13501/15880 [42:35<1:32:31,  2.33s/it]"
     ]
    },
    {
     "name": "stdout",
     "output_type": "stream",
     "text": [
      "mất bao lâu để bay từ tokyo đến los angeles? | <sos>how long does it take care from tokyo?<eos>\n",
      "đó là một cái túi mà tôi bị mất trong phòng ngày hôm qua. | <sos>it was a little time when i was in the room yesterday. yesterday.<eos>\n",
      "mary đang mặc một chiếc cà vạt | <sos>mary is wearing a few house<eos>\n",
      "tôi muốn một cuốn sách | <sos>i'd like a book.<eos>\n",
      "\n"
     ]
    },
    {
     "name": "stderr",
     "output_type": "stream",
     "text": [
      "epoch: 2 | train loss: 0.27116  | lr: 5.851340e-04:  88%|███████████████████▍  | 14001/15880 [46:50<1:41:21,  3.24s/it]"
     ]
    },
    {
     "name": "stdout",
     "output_type": "stream",
     "text": [
      "mất bao lâu để bay từ tokyo đến los angeles? | <sos>how long does it take from tokyo from tokyo?<eos>\n",
      "đó là một cái túi mà tôi bị mất trong phòng ngày hôm qua. | <sos>that's a little beautiful i've been in those days.<eos>\n",
      "mary đang mặc một chiếc cà vạt | <sos>mary is wearing<eos>\n",
      "tôi muốn một cuốn sách | <sos>i want a book.<eos>\n",
      "\n"
     ]
    },
    {
     "name": "stderr",
     "output_type": "stream",
     "text": [
      "epoch: 2 | train loss: 0.25300  | lr: 5.930915e-04:  91%|█████████████████████▉  | 14501/15880 [48:53<28:40,  1.25s/it]"
     ]
    },
    {
     "name": "stdout",
     "output_type": "stream",
     "text": [
      "mất bao lâu để bay từ tokyo đến los angeles? | <sos>how long did it take to get to the airport?<eos>\n",
      "đó là một cái túi mà tôi bị mất trong phòng ngày hôm qua. | <sos>that's a little time i was in the room yesterday.<eos>\n",
      "mary đang mặc một chiếc cà vạt | <sos>mary was wearing a train<eos>\n",
      "tôi muốn một cuốn sách | <sos>i would like a book<eos>\n",
      "\n"
     ]
    },
    {
     "name": "stderr",
     "output_type": "stream",
     "text": [
      "epoch: 2 | train loss: 0.26376  | lr: 5.980486e-04:  94%|██████████████████████▋ | 15002/15880 [50:28<12:28,  1.17it/s]"
     ]
    },
    {
     "name": "stdout",
     "output_type": "stream",
     "text": [
      "mất bao lâu để bay từ tokyo đến los angeles? | <sos>how long does it from boston from boston?<eos>\n",
      "đó là một cái túi mà tôi bị mất trong phòng ngày hôm qua. | <sos>it is a little disappointment that i was out of the day yesterday. yesterday.<eos>\n",
      "mary đang mặc một chiếc cà vạt | <sos>mary is wearing a few house<eos>\n",
      "tôi muốn một cuốn sách | <sos>i want a book.<eos>\n",
      "\n"
     ]
    },
    {
     "name": "stderr",
     "output_type": "stream",
     "text": [
      "epoch: 2 | train loss: 0.29044  | lr: 5.999730e-04:  98%|███████████████████████▍| 15501/15880 [52:00<07:18,  1.16s/it]"
     ]
    },
    {
     "name": "stdout",
     "output_type": "stream",
     "text": [
      "mất bao lâu để bay từ tokyo đến los angeles? | <sos>how long does it take to go to boston?<eos>\n",
      "đó là một cái túi mà tôi bị mất trong phòng ngày hôm qua. | <sos>it was a little that i was in the room yesterday.<eos>\n",
      "mary đang mặc một chiếc cà vạt | <sos>mary is wearing a few dress<eos>\n",
      "tôi muốn một cuốn sách | <sos>i want a book.<eos>\n",
      "\n"
     ]
    },
    {
     "name": "stderr",
     "output_type": "stream",
     "text": [
      "epoch: 2 | train loss: 0.24582  | lr: 5.994036e-04: 100%|████████████████████████| 15880/15880 [53:08<00:00,  4.98it/s]\n"
     ]
    }
   ],
   "source": [
    "trainer.train()"
   ]
  },
  {
   "cell_type": "code",
   "execution_count": 39,
   "metadata": {},
   "outputs": [
    {
     "name": "stdout",
     "output_type": "stream",
     "text": [
      "thời tiết hôm nay thật đẹp!   <sos>what is the weather for the mountain!<eos>\n",
      "xin chào   <sos>please come.<eos>\n",
      "bạn đã ăn sáng chưa?   <sos>have you eaten the morning?<eos>\n",
      "\n"
     ]
    }
   ],
   "source": [
    "samples = [\"thời tiết hôm nay thật đẹp!\", \n",
    "          \"xin chào\", \n",
    "          \"bạn đã ăn sáng chưa?\"]\n",
    "result = model.generate_output(samples, dataset, top_k=3)\n",
    "print(result)"
   ]
  },
  {
   "cell_type": "code",
   "execution_count": null,
   "metadata": {},
   "outputs": [],
   "source": []
  }
 ],
 "metadata": {
  "kernelspec": {
   "display_name": "Python 3",
   "language": "python",
   "name": "python3"
  },
  "language_info": {
   "codemirror_mode": {
    "name": "ipython",
    "version": 3
   },
   "file_extension": ".py",
   "mimetype": "text/x-python",
   "name": "python",
   "nbconvert_exporter": "python",
   "pygments_lexer": "ipython3",
   "version": "3.7.6"
  }
 },
 "nbformat": 4,
 "nbformat_minor": 4
}
